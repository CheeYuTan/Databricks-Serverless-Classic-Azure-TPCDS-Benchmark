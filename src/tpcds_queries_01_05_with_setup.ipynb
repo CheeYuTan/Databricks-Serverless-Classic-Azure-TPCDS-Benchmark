{
 "cells": [
  {
   "cell_type": "markdown",
   "metadata": {
    "application/vnd.databricks.v1+cell": {
     "cellMetadata": {},
     "inputWidgets": {},
     "nuid": "120b8a23-4bdb-4bd7-8eb6-8c83534452bc",
     "showTitle": false,
     "tableResultSettingsMap": {},
     "title": ""
    }
   },
   "source": [
    "# 🧪 TPC-DS Benchmark Queries 1–5\n",
    "Databricks SQL with Unity Catalog via setup notebook"
   ]
  },
  {
   "cell_type": "code",
   "execution_count": 0,
   "metadata": {
    "application/vnd.databricks.v1+cell": {
     "cellMetadata": {},
     "inputWidgets": {},
     "nuid": "71eb5a6b-fafe-46f7-a519-88c999da420e",
     "showTitle": false,
     "tableResultSettingsMap": {},
     "title": ""
    }
   },
   "outputs": [],
   "source": [
    "%run ./specify_catalog_schema"
   ]
  },
  {
   "cell_type": "code",
   "execution_count": 0,
   "metadata": {
    "application/vnd.databricks.v1+cell": {
     "cellMetadata": {},
     "inputWidgets": {},
     "nuid": "93514522-b921-4e53-9714-5a20cc1f1256",
     "showTitle": false,
     "tableResultSettingsMap": {},
     "title": ""
    }
   },
   "outputs": [],
   "source": [
    "%sql\n",
    "-- Query 1: Top Customers by Return Amount\n",
    "-- TPC-DS Query 1\n",
    "WITH customer_total_return AS (\n",
    "    SELECT\n",
    "        sr_customer_sk AS ctr_customer_sk,\n",
    "        sr_store_sk AS ctr_store_sk,\n",
    "        SUM(sr_return_amt) AS ctr_total_return\n",
    "    FROM store_returns, date_dim\n",
    "    WHERE sr_returned_date_sk = d_date_sk\n",
    "      AND d_year = 2000\n",
    "    GROUP BY sr_customer_sk, sr_store_sk\n",
    ")\n",
    "SELECT c_customer_id\n",
    "FROM customer_total_return ctr1,\n",
    "     store,\n",
    "     customer\n",
    "WHERE ctr1.ctr_total_return > (\n",
    "        SELECT AVG(ctr_total_return) * 1.2\n",
    "        FROM customer_total_return ctr2\n",
    "        WHERE ctr1.ctr_store_sk = ctr2.ctr_store_sk\n",
    "    )\n",
    "  AND s_store_sk = ctr1.ctr_store_sk\n",
    "  AND s_state = 'TN'\n",
    "  AND ctr1.ctr_customer_sk = c_customer_sk\n",
    "ORDER BY c_customer_id\n",
    "LIMIT 100;"
   ]
  },
  {
   "cell_type": "code",
   "execution_count": 0,
   "metadata": {
    "application/vnd.databricks.v1+cell": {
     "cellMetadata": {},
     "inputWidgets": {},
     "nuid": "b87234fb-985f-4e3c-96ee-3c23f102ad25",
     "showTitle": false,
     "tableResultSettingsMap": {},
     "title": ""
    }
   },
   "outputs": [],
   "source": [
    "%sql\n",
    "-- Query 2: Revenue Ratio by Item Class\n",
    "-- TPC-DS Query 2\n",
    "SELECT\n",
    "    i_item_desc,\n",
    "    i_category,\n",
    "    i_class,\n",
    "    i_current_price,\n",
    "    SUM(ss_ext_sales_price) AS itemrevenue,\n",
    "    SUM(ss_ext_sales_price) * 100 / SUM(SUM(ss_ext_sales_price)) OVER (PARTITION BY i_class) AS revenueratio\n",
    "FROM store_sales, item, date_dim\n",
    "WHERE ss_item_sk = i_item_sk\n",
    "  AND ss_sold_date_sk = d_date_sk\n",
    "  AND d_year = 1999\n",
    "  AND i_category IN ('Books', 'Children', 'Electronics')\n",
    "GROUP BY\n",
    "    i_item_id, i_item_desc, i_category, i_class, i_current_price\n",
    "ORDER BY\n",
    "    i_category, i_class, i_item_id, i_item_desc, revenueratio\n",
    "LIMIT 100;"
   ]
  },
  {
   "cell_type": "code",
   "execution_count": 0,
   "metadata": {
    "application/vnd.databricks.v1+cell": {
     "cellMetadata": {},
     "inputWidgets": {},
     "nuid": "c940d4c4-fcce-4ad5-a694-d0c8b43da8a7",
     "showTitle": false,
     "tableResultSettingsMap": {},
     "title": ""
    }
   },
   "outputs": [],
   "source": [
    "%sql\n",
    "-- Query 3: Brand Revenue in November\n",
    "-- TPC-DS Query 3\n",
    "SELECT\n",
    "    d_year,\n",
    "    i_brand_id AS brand_id,\n",
    "    i_brand AS brand,\n",
    "    SUM(ss_ext_sales_price) AS sum_agg\n",
    "FROM date_dim, store_sales, item\n",
    "WHERE d_date_sk = ss_sold_date_sk\n",
    "  AND ss_item_sk = i_item_sk\n",
    "  AND i_manufact_id = 128\n",
    "  AND d_moy = 11\n",
    "GROUP BY d_year, i_brand, i_brand_id\n",
    "ORDER BY d_year, sum_agg DESC, brand_id\n",
    "LIMIT 100;"
   ]
  },
  {
   "cell_type": "code",
   "execution_count": 0,
   "metadata": {
    "application/vnd.databricks.v1+cell": {
     "cellMetadata": {},
     "inputWidgets": {},
     "nuid": "0872b54b-a2d9-48c1-9607-de9ea0386102",
     "showTitle": false,
     "tableResultSettingsMap": {},
     "title": ""
    }
   },
   "outputs": [],
   "source": [
    "%sql\n",
    "-- Query 4: Top Customers by Net Profit\n",
    "-- TPC-DS Query 4\n",
    "WITH year_total AS (\n",
    "    SELECT\n",
    "        c_customer_id AS customer_id,\n",
    "        c_first_name AS customer_first_name,\n",
    "        c_last_name AS customer_last_name,\n",
    "        c_preferred_cust_flag AS customer_preferred_cust_flag,\n",
    "        c_birth_country AS customer_birth_country,\n",
    "        c_login AS customer_login,\n",
    "        c_email_address AS customer_email_address,\n",
    "        d_year AS dyear,\n",
    "        SUM(ss_net_profit) AS year_total,\n",
    "        's' AS sale_type\n",
    "    FROM customer, store_sales, date_dim\n",
    "    WHERE c_customer_sk = ss_customer_sk\n",
    "      AND ss_sold_date_sk = d_date_sk\n",
    "    GROUP BY c_customer_id, c_first_name, c_last_name,\n",
    "             c_preferred_cust_flag, c_birth_country,\n",
    "             c_login, c_email_address, d_year\n",
    "    UNION ALL\n",
    "    SELECT\n",
    "        c_customer_id,\n",
    "        c_first_name,\n",
    "        c_last_name,\n",
    "        c_preferred_cust_flag,\n",
    "        c_birth_country,\n",
    "        c_login,\n",
    "        c_email_address,\n",
    "        d_year,\n",
    "        SUM(ws_net_profit),\n",
    "        'w'\n",
    "    FROM customer, web_sales, date_dim\n",
    "    WHERE c_customer_sk = ws_bill_customer_sk\n",
    "      AND ws_sold_date_sk = d_date_sk\n",
    "    GROUP BY c_customer_id, c_first_name, c_last_name,\n",
    "             c_preferred_cust_flag, c_birth_country,\n",
    "             c_login, c_email_address, d_year\n",
    ")\n",
    "SELECT\n",
    "    customer_id,\n",
    "    customer_first_name,\n",
    "    customer_last_name,\n",
    "    customer_preferred_cust_flag,\n",
    "    customer_birth_country,\n",
    "    customer_login,\n",
    "    customer_email_address,\n",
    "    dyear,\n",
    "    SUM(year_total) AS year_total\n",
    "FROM year_total\n",
    "GROUP BY customer_id, customer_first_name, customer_last_name,\n",
    "         customer_preferred_cust_flag, customer_birth_country,\n",
    "         customer_login, customer_email_address, dyear\n",
    "ORDER BY dyear, year_total DESC, customer_id\n",
    "LIMIT 100;"
   ]
  },
  {
   "cell_type": "code",
   "execution_count": 0,
   "metadata": {
    "application/vnd.databricks.v1+cell": {
     "cellMetadata": {},
     "inputWidgets": {},
     "nuid": "9125f444-5bb7-4510-9661-e0575eddfc0b",
     "showTitle": false,
     "tableResultSettingsMap": {},
     "title": ""
    }
   },
   "outputs": [],
   "source": [
    "%sql\n",
    "-- Query 5: Frequent Customer Transactions\n",
    "-- TPC-DS Query 5\n",
    "SELECT\n",
    "    c_last_name,\n",
    "    c_first_name,\n",
    "    c_salutation,\n",
    "    c_preferred_cust_flag,\n",
    "    ss_ticket_number,\n",
    "    cnt\n",
    "FROM customer, store_sales,\n",
    "     (SELECT ss_ticket_number AS tkt,\n",
    "             ss_customer_sk AS csk,\n",
    "             COUNT(*) AS cnt\n",
    "      FROM store_sales\n",
    "      GROUP BY ss_ticket_number, ss_customer_sk\n",
    "      HAVING COUNT(*) > 1) sls\n",
    "WHERE ss_ticket_number = tkt\n",
    "  AND ss_customer_sk = csk\n",
    "  AND ss_customer_sk = c_customer_sk\n",
    "ORDER BY cnt DESC, c_last_name, c_first_name, ss_ticket_number\n",
    "LIMIT 100;"
   ]
  }
 ],
 "metadata": {
  "application/vnd.databricks.v1+notebook": {
   "computePreferences": null,
   "dashboards": [],
   "environmentMetadata": null,
   "inputWidgetPreferences": null,
   "language": "python",
   "notebookMetadata": {
    "pythonIndentUnit": 2
   },
   "notebookName": "tpcds_queries_01_05_with_setup",
   "widgets": {}
  },
  "language_info": {
   "name": "python"
  }
 },
 "nbformat": 4,
 "nbformat_minor": 0
}
