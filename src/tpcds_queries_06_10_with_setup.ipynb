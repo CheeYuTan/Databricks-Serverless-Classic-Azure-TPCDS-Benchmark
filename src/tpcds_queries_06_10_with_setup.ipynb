{
 "cells": [
  {
   "cell_type": "markdown",
   "metadata": {
    "application/vnd.databricks.v1+cell": {
     "cellMetadata": {},
     "inputWidgets": {},
     "nuid": "4c96a8a9-4791-4b10-bc7f-5655a26c7be1",
     "showTitle": false,
     "tableResultSettingsMap": {},
     "title": ""
    }
   },
   "source": [
    "# 🧪 TPC-DS Benchmark Queries 6–10\n",
    "Databricks SQL using `%run ./specify_catalog_schema`"
   ]
  },
  {
   "cell_type": "code",
   "execution_count": 0,
   "metadata": {
    "application/vnd.databricks.v1+cell": {
     "cellMetadata": {},
     "inputWidgets": {},
     "nuid": "e684ff9c-41c6-493a-93f9-c860a5c82fb8",
     "showTitle": false,
     "tableResultSettingsMap": {},
     "title": ""
    }
   },
   "outputs": [],
   "source": [
    "%run ./specify_catalog_schema"
   ]
  },
  {
   "cell_type": "code",
   "execution_count": 0,
   "metadata": {
    "application/vnd.databricks.v1+cell": {
     "cellMetadata": {},
     "inputWidgets": {},
     "nuid": "b3548cc5-d6c5-4907-8cf0-06466e652bfc",
     "showTitle": false,
     "tableResultSettingsMap": {},
     "title": ""
    }
   },
   "outputs": [],
   "source": [
    "%sql\n",
    "-- Query 6: Price-Sensitive Customers in TN\n",
    "-- TPC-DS Query 6\n",
    "SELECT\n",
    "    a.ca_state,\n",
    "    COUNT(*) AS cnt\n",
    "FROM customer_address a,\n",
    "     customer c,\n",
    "     store_sales s,\n",
    "     date_dim d\n",
    "WHERE a.ca_address_sk = c.c_current_addr_sk\n",
    "  AND c.c_customer_sk = s.ss_customer_sk\n",
    "  AND s.ss_sold_date_sk = d.d_date_sk\n",
    "  AND d.d_year = 2000\n",
    "  AND a.ca_state = 'TN'\n",
    "GROUP BY a.ca_state\n",
    "LIMIT 100;"
   ]
  },
  {
   "cell_type": "code",
   "execution_count": 0,
   "metadata": {
    "application/vnd.databricks.v1+cell": {
     "cellMetadata": {},
     "inputWidgets": {},
     "nuid": "3a3accad-d431-424f-86e3-d82a236ff2b3",
     "showTitle": false,
     "tableResultSettingsMap": {},
     "title": ""
    }
   },
   "outputs": [],
   "source": [
    "%sql\n",
    "-- Query 7: Top Brands by Revenue\n",
    "-- TPC-DS Query 7\n",
    "SELECT\n",
    "    i_item_id,\n",
    "    i_item_desc,\n",
    "    i_current_price,\n",
    "    i_class,\n",
    "    i_category,\n",
    "    i_manufact_id,\n",
    "    i_manufact,\n",
    "    SUM(ss_ext_sales_price) AS itemrevenue,\n",
    "    SUM(ss_ext_sales_price) * 100 / SUM(SUM(ss_ext_sales_price)) OVER (PARTITION BY i_class) AS revenueratio\n",
    "FROM store_sales, item, date_dim\n",
    "WHERE ss_item_sk = i_item_sk\n",
    "  AND ss_sold_date_sk = d_date_sk\n",
    "  AND d_date BETWEEN DATE '2000-01-27' AND DATE '2000-02-27'\n",
    "GROUP BY i_item_id, i_item_desc, i_current_price,\n",
    "         i_class, i_category, i_manufact_id, i_manufact\n",
    "ORDER BY i_item_id\n",
    "LIMIT 100;"
   ]
  },
  {
   "cell_type": "code",
   "execution_count": 0,
   "metadata": {
    "application/vnd.databricks.v1+cell": {
     "cellMetadata": {},
     "inputWidgets": {},
     "nuid": "9019af52-8307-41b3-af43-f0efafa89640",
     "showTitle": false,
     "tableResultSettingsMap": {},
     "title": ""
    }
   },
   "outputs": [],
   "source": [
    "%sql\n",
    "-- Query 8: Revenue Comparison Over Time\n",
    "-- TPC-DS Query 8 (Fixed)\n",
    "WITH avg_category_price AS (\n",
    "    SELECT\n",
    "        i_category,\n",
    "        AVG(i_current_price) AS avg_price\n",
    "    FROM item\n",
    "    GROUP BY i_category\n",
    ")\n",
    "SELECT\n",
    "    c_last_name,\n",
    "    c_first_name,\n",
    "    s_store_name,\n",
    "    ca_state,\n",
    "    i.i_item_desc,\n",
    "    ss_ticket_number,\n",
    "    ss_quantity,\n",
    "    ss_wholesale_cost,\n",
    "    ss_sales_price\n",
    "FROM store_sales ss\n",
    "JOIN customer c ON ss.ss_customer_sk = c.c_customer_sk\n",
    "JOIN customer_address ca ON c.c_current_addr_sk = ca.ca_address_sk\n",
    "JOIN store s ON ss.ss_store_sk = s.s_store_sk\n",
    "JOIN item i ON ss.ss_item_sk = i.i_item_sk\n",
    "JOIN date_dim d ON ss.ss_sold_date_sk = d.d_date_sk\n",
    "JOIN avg_category_price acp ON i.i_category = acp.i_category\n",
    "WHERE d.d_month_seq BETWEEN 1200 AND 1211\n",
    "  AND i.i_current_price > 1.2 * acp.avg_price\n",
    "  AND i.i_manufact_id IN (977, 998, 980, 964)\n",
    "  AND ca.ca_state IN ('TN')\n",
    "ORDER BY c.c_last_name, c.c_first_name, s.s_store_name, ca.ca_state\n",
    "LIMIT 100;"
   ]
  },
  {
   "cell_type": "code",
   "execution_count": 0,
   "metadata": {
    "application/vnd.databricks.v1+cell": {
     "cellMetadata": {},
     "inputWidgets": {},
     "nuid": "7377fcb0-ed57-49f7-be06-7fc5991be4e1",
     "showTitle": false,
     "tableResultSettingsMap": {},
     "title": ""
    }
   },
   "outputs": [],
   "source": [
    "%sql\n",
    "-- Query 9: Frequent Buyers with High Spend\n",
    "-- TPC-DS Query 9\n",
    "SELECT\n",
    "    c_last_name,\n",
    "    c_first_name,\n",
    "    c_salutation,\n",
    "    c_preferred_cust_flag,\n",
    "    ss_ticket_number,\n",
    "    cnt\n",
    "FROM customer, store_sales,\n",
    "     (SELECT ss_ticket_number AS tkt,\n",
    "             ss_customer_sk AS csk,\n",
    "             COUNT(*) AS cnt\n",
    "      FROM store_sales\n",
    "      GROUP BY ss_ticket_number, ss_customer_sk\n",
    "      HAVING COUNT(*) > 1) sls\n",
    "WHERE ss_ticket_number = tkt\n",
    "  AND ss_customer_sk = csk\n",
    "  AND ss_customer_sk = c_customer_sk\n",
    "ORDER BY cnt DESC, c_last_name, c_first_name, ss_ticket_number\n",
    "LIMIT 100;"
   ]
  },
  {
   "cell_type": "code",
   "execution_count": 0,
   "metadata": {
    "application/vnd.databricks.v1+cell": {
     "cellMetadata": {},
     "inputWidgets": {},
     "nuid": "65ade947-c52e-4c91-bb7f-672bb8f4eb0e",
     "showTitle": false,
     "tableResultSettingsMap": {},
     "title": ""
    }
   },
   "outputs": [],
   "source": [
    "%sql\n",
    "-- Query 10: Sales Growth by Category\n",
    "-- TPC-DS Query 10\n",
    "SELECT\n",
    "    i_category,\n",
    "    i_class,\n",
    "    i_brand,\n",
    "    s_store_name,\n",
    "    d_year,\n",
    "    d_qoy,\n",
    "    SUM(ss_sales_price) AS sum_sales,\n",
    "    AVG(SUM(ss_sales_price)) OVER (PARTITION BY i_category) AS avg_quarterly_sales\n",
    "FROM store_sales,\n",
    "     date_dim,\n",
    "     store,\n",
    "     item\n",
    "WHERE ss_sold_date_sk = d_date_sk\n",
    "  AND ss_store_sk = s_store_sk\n",
    "  AND ss_item_sk = i_item_sk\n",
    "  AND d_year IN (1999, 2000, 2001)\n",
    "GROUP BY i_category, i_class, i_brand, s_store_name, d_year, d_qoy\n",
    "ORDER BY i_category, i_class, i_brand, s_store_name, d_year, d_qoy\n",
    "LIMIT 100;"
   ]
  }
 ],
 "metadata": {
  "application/vnd.databricks.v1+notebook": {
   "computePreferences": null,
   "dashboards": [],
   "environmentMetadata": null,
   "inputWidgetPreferences": null,
   "language": "python",
   "notebookMetadata": {
    "pythonIndentUnit": 2
   },
   "notebookName": "tpcds_queries_06_10_with_setup",
   "widgets": {}
  },
  "language_info": {
   "name": "python"
  }
 },
 "nbformat": 4,
 "nbformat_minor": 0
}
