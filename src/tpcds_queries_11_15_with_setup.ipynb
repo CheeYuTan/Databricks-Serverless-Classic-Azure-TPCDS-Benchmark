{
 "cells": [
  {
   "cell_type": "markdown",
   "metadata": {
    "application/vnd.databricks.v1+cell": {
     "cellMetadata": {},
     "inputWidgets": {},
     "nuid": "d6c1e1a9-40a7-49bc-81e6-b356ce25062f",
     "showTitle": false,
     "tableResultSettingsMap": {},
     "title": ""
    }
   },
   "source": [
    "# 🧪 TPC-DS Benchmark Queries 11–15\n",
    "Databricks SQL using `%run ./specify_catalog_schema`"
   ]
  },
  {
   "cell_type": "code",
   "execution_count": 0,
   "metadata": {
    "application/vnd.databricks.v1+cell": {
     "cellMetadata": {},
     "inputWidgets": {},
     "nuid": "4633dce7-c32f-44f2-b37d-e60a69a343b5",
     "showTitle": false,
     "tableResultSettingsMap": {},
     "title": ""
    }
   },
   "outputs": [],
   "source": [
    "%run ./specify_catalog_schema"
   ]
  },
  {
   "cell_type": "code",
   "execution_count": 0,
   "metadata": {
    "application/vnd.databricks.v1+cell": {
     "cellMetadata": {},
     "inputWidgets": {},
     "nuid": "c6f0e861-e4b4-4ebb-89d6-f9ef83fee78b",
     "showTitle": false,
     "tableResultSettingsMap": {},
     "title": ""
    }
   },
   "outputs": [],
   "source": [
    "%sql\n",
    "-- Query 11: Top-Selling Items by Store and Month\n",
    "-- TPC-DS Query 11\n",
    "SELECT\n",
    "    i_item_id,\n",
    "    i_item_desc,\n",
    "    s_store_id,\n",
    "    s_store_name,\n",
    "    SUM(ss_quantity) AS total_quantity,\n",
    "    AVG(ss_quantity) AS avg_quantity\n",
    "FROM store_sales,\n",
    "     store,\n",
    "     item,\n",
    "     date_dim\n",
    "WHERE ss_item_sk = i_item_sk\n",
    "  AND ss_store_sk = s_store_sk\n",
    "  AND ss_sold_date_sk = d_date_sk\n",
    "  AND d_month_seq BETWEEN 1214 AND 1214 + 11\n",
    "GROUP BY i_item_id, i_item_desc, s_store_id, s_store_name\n",
    "ORDER BY total_quantity DESC, i_item_id\n",
    "LIMIT 100;"
   ]
  },
  {
   "cell_type": "code",
   "execution_count": 0,
   "metadata": {
    "application/vnd.databricks.v1+cell": {
     "cellMetadata": {},
     "inputWidgets": {},
     "nuid": "143b46a8-5992-4ce2-afa6-3f397c838476",
     "showTitle": false,
     "tableResultSettingsMap": {},
     "title": ""
    }
   },
   "outputs": [],
   "source": [
    "%sql\n",
    "-- Query 12: Returns Summary by Store\n",
    "-- TPC-DS Query 12\n",
    "SELECT\n",
    "    s_store_name,\n",
    "    COUNT(sr_return_quantity) AS total_returns,\n",
    "    SUM(sr_return_amt) AS total_return_amount\n",
    "FROM store_returns,\n",
    "     store,\n",
    "     date_dim\n",
    "WHERE sr_store_sk = s_store_sk\n",
    "  AND sr_returned_date_sk = d_date_sk\n",
    "  AND d_year = 2000\n",
    "GROUP BY s_store_name\n",
    "ORDER BY total_return_amount DESC\n",
    "LIMIT 100;"
   ]
  },
  {
   "cell_type": "code",
   "execution_count": 0,
   "metadata": {
    "application/vnd.databricks.v1+cell": {
     "cellMetadata": {},
     "inputWidgets": {},
     "nuid": "ec3ad6dc-a640-406b-a32a-58bbf9c37f92",
     "showTitle": false,
     "tableResultSettingsMap": {},
     "title": ""
    }
   },
   "outputs": [],
   "source": [
    "%sql\n",
    "-- Query 13: Category Revenue by Quarter\n",
    "-- TPC-DS Query 13\n",
    "SELECT\n",
    "    i_category,\n",
    "    d_qoy,\n",
    "    d_year,\n",
    "    SUM(ss_ext_sales_price) AS total_sales\n",
    "FROM store_sales,\n",
    "     item,\n",
    "     date_dim\n",
    "WHERE ss_item_sk = i_item_sk\n",
    "  AND ss_sold_date_sk = d_date_sk\n",
    "  AND d_year IN (1999, 2000, 2001)\n",
    "GROUP BY i_category, d_qoy, d_year\n",
    "ORDER BY d_year, d_qoy, i_category\n",
    "LIMIT 100;"
   ]
  },
  {
   "cell_type": "code",
   "execution_count": 0,
   "metadata": {
    "application/vnd.databricks.v1+cell": {
     "cellMetadata": {},
     "inputWidgets": {},
     "nuid": "69fe10a4-f1ad-40c4-b012-2877dd6676a9",
     "showTitle": false,
     "tableResultSettingsMap": {},
     "title": ""
    }
   },
   "outputs": [],
   "source": [
    "%sql\n",
    "-- Query 14: High Margin Items\n",
    "-- TPC-DS Query 14\n",
    "SELECT\n",
    "    i_item_id,\n",
    "    i_item_desc,\n",
    "    i_current_price,\n",
    "    i_wholesale_cost,\n",
    "    (i_current_price - i_wholesale_cost) AS margin\n",
    "FROM item\n",
    "WHERE (i_current_price - i_wholesale_cost) > 50\n",
    "ORDER BY margin DESC\n",
    "LIMIT 100;"
   ]
  },
  {
   "cell_type": "code",
   "execution_count": 0,
   "metadata": {
    "application/vnd.databricks.v1+cell": {
     "cellMetadata": {},
     "inputWidgets": {},
     "nuid": "a23c65ed-8603-4195-91c0-47307b199656",
     "showTitle": false,
     "tableResultSettingsMap": {},
     "title": ""
    }
   },
   "outputs": [],
   "source": [
    "%sql\n",
    "-- Query 15: Loyalty Customers' Spend by Year\n",
    "-- TPC-DS Query 15\n",
    "SELECT\n",
    "    c_customer_id,\n",
    "    c_first_name,\n",
    "    c_last_name,\n",
    "    d_year,\n",
    "    SUM(ss_net_paid) AS total_paid\n",
    "FROM store_sales,\n",
    "     customer,\n",
    "     date_dim\n",
    "WHERE ss_customer_sk = c_customer_sk\n",
    "  AND ss_sold_date_sk = d_date_sk\n",
    "  AND c_preferred_cust_flag = 'Y'\n",
    "GROUP BY c_customer_id, c_first_name, c_last_name, d_year\n",
    "ORDER BY total_paid DESC\n",
    "LIMIT 100;"
   ]
  }
 ],
 "metadata": {
  "application/vnd.databricks.v1+notebook": {
   "computePreferences": null,
   "dashboards": [],
   "environmentMetadata": null,
   "inputWidgetPreferences": null,
   "language": "python",
   "notebookMetadata": {
    "pythonIndentUnit": 2
   },
   "notebookName": "tpcds_queries_11_15_with_setup",
   "widgets": {}
  },
  "language_info": {
   "name": "python"
  }
 },
 "nbformat": 4,
 "nbformat_minor": 0
}
