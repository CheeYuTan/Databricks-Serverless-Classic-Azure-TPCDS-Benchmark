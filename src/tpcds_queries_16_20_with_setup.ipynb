{
 "cells": [
  {
   "cell_type": "markdown",
   "metadata": {
    "application/vnd.databricks.v1+cell": {
     "cellMetadata": {
      "byteLimit": 2048000,
      "rowLimit": 10000
     },
     "inputWidgets": {},
     "nuid": "0290bdf7-a954-4310-8969-de1a53bf469b",
     "showTitle": false,
     "tableResultSettingsMap": {},
     "title": ""
    }
   },
   "source": [
    "# 🧪 TPC-DS Benchmark Queries 16–20\n",
    "Databricks SQL using `%run ./specify_catalog_schema`"
   ]
  },
  {
   "cell_type": "code",
   "execution_count": 0,
   "metadata": {
    "application/vnd.databricks.v1+cell": {
     "cellMetadata": {
      "byteLimit": 2048000,
      "implicitDf": true,
      "rowLimit": 10000
     },
     "inputWidgets": {},
     "nuid": "388587c4-e0e5-43a3-ae61-9f849aace9d8",
     "showTitle": false,
     "tableResultSettingsMap": {},
     "title": ""
    }
   },
   "outputs": [],
   "source": [
    "%run ./specify_catalog_schema"
   ]
  },
  {
   "cell_type": "code",
   "execution_count": 0,
   "metadata": {
    "application/vnd.databricks.v1+cell": {
     "cellMetadata": {
      "byteLimit": 2048000,
      "implicitDf": true,
      "rowLimit": 10000
     },
     "inputWidgets": {},
     "nuid": "49b306b2-46ac-4bb9-bba8-a7f8788346fc",
     "showTitle": false,
     "tableResultSettingsMap": {},
     "title": ""
    }
   },
   "outputs": [],
   "source": [
    "%sql\n",
    "-- Query 16: Catalog Sales Shipping and Profit Summary\n",
    "-- TPC-DS Query 16\n",
    "SELECT\n",
    "    COUNT(DISTINCT cs_order_number) AS order_count,\n",
    "    SUM(cs_ext_ship_cost) AS total_shipping_cost,\n",
    "    SUM(cs_net_profit) AS total_net_profit\n",
    "FROM catalog_sales cs1\n",
    "JOIN date_dim ON cs1.cs_ship_date_sk = d_date_sk\n",
    "JOIN customer_address ON cs1.cs_ship_addr_sk = ca_address_sk\n",
    "JOIN call_center ON cs1.cs_call_center_sk = cc_call_center_sk\n",
    "WHERE d_date BETWEEN '2002-03-01' AND DATE_ADD('2002-03-01', 60)\n",
    "  AND ca_state = 'IA'\n",
    "  AND cc_county IN ('Williamson County', 'Williamson County', 'Williamson County', 'Williamson County', 'Williamson County')\n",
    "  AND EXISTS (\n",
    "      SELECT 1\n",
    "      FROM catalog_sales cs2\n",
    "      WHERE cs1.cs_order_number = cs2.cs_order_number\n",
    "        AND cs1.cs_warehouse_sk <> cs2.cs_warehouse_sk\n",
    "  )\n",
    "  AND NOT EXISTS (\n",
    "      SELECT 1\n",
    "      FROM catalog_returns cr1\n",
    "      WHERE cs1.cs_order_number = cr1.cr_order_number\n",
    "  );"
   ]
  },
  {
   "cell_type": "code",
   "execution_count": 0,
   "metadata": {
    "application/vnd.databricks.v1+cell": {
     "cellMetadata": {
      "byteLimit": 2048000,
      "implicitDf": true,
      "rowLimit": 10000
     },
     "inputWidgets": {},
     "nuid": "f10f9d18-f7ec-40bc-a12e-b4d94c6958fe",
     "showTitle": false,
     "tableResultSettingsMap": {},
     "title": ""
    }
   },
   "outputs": [],
   "source": [
    "%sql\n",
    "-- Query 17: Top M Returns with Reason\n",
    "-- TPC-DS Query 17\n",
    "SELECT\n",
    "    i_item_id,\n",
    "    i_item_desc,\n",
    "    i_category,\n",
    "    i_class,\n",
    "    i_current_price,\n",
    "    SUM(ss_ext_sales_price) AS itemrevenue,\n",
    "    SUM(ss_ext_sales_price) * 100 / SUM(SUM(ss_ext_sales_price)) OVER (PARTITION BY i_class) AS revenueratio\n",
    "FROM store_sales\n",
    "JOIN item ON ss_item_sk = i_item_sk\n",
    "JOIN date_dim ON ss_sold_date_sk = d_date_sk\n",
    "WHERE d_year = 2000\n",
    "  AND d_moy = 2\n",
    "GROUP BY\n",
    "    i_item_id,\n",
    "    i_item_desc,\n",
    "    i_category,\n",
    "    i_class,\n",
    "    i_current_price\n",
    "ORDER BY\n",
    "    i_category,\n",
    "    i_class,\n",
    "    i_item_id,\n",
    "    i_item_desc,\n",
    "    revenueratio\n",
    "LIMIT 100;"
   ]
  },
  {
   "cell_type": "code",
   "execution_count": 0,
   "metadata": {
    "application/vnd.databricks.v1+cell": {
     "cellMetadata": {
      "byteLimit": 2048000,
      "implicitDf": true,
      "rowLimit": 10000
     },
     "inputWidgets": {},
     "nuid": "b5fc2331-96c7-4be5-9b66-f0d3bf5d729e",
     "showTitle": false,
     "tableResultSettingsMap": {},
     "title": ""
    }
   },
   "outputs": [],
   "source": [
    "%sql\n",
    "-- Query 18: Average Price Per Category\n",
    "-- TPC-DS Query 18\n",
    "SELECT\n",
    "    i_item_id,\n",
    "    ca_country,\n",
    "    ca_state,\n",
    "    ca_county,\n",
    "    AVG(cs_quantity) AS agg1,\n",
    "    AVG(cs_list_price) AS agg2,\n",
    "    AVG(cs_coupon_amt) AS agg3,\n",
    "    AVG(cs_sales_price) AS agg4,\n",
    "    AVG(cs_net_profit) AS agg5,\n",
    "    AVG(c_birth_year) AS agg6,\n",
    "    AVG(cd1.cd_dep_count) AS agg7\n",
    "FROM catalog_sales\n",
    "JOIN customer_demographics cd1 ON cs_bill_cdemo_sk = cd1.cd_demo_sk\n",
    "JOIN customer_demographics cd2 ON cs_ship_cdemo_sk = cd2.cd_demo_sk\n",
    "JOIN customer ON cs_ship_customer_sk = c_customer_sk\n",
    "JOIN customer_address ON c_current_addr_sk = ca_address_sk\n",
    "JOIN date_dim ON cs_sold_date_sk = d_date_sk\n",
    "JOIN item ON cs_item_sk = i_item_sk\n",
    "WHERE cd1.cd_gender = 'F'\n",
    "  AND cd1.cd_education_status = 'College'\n",
    "  AND cd2.cd_gender = 'F'\n",
    "  AND cd2.cd_education_status = 'College'\n",
    "  AND c_birth_month IN (1, 6, 12)\n",
    "  AND d_year = 2000\n",
    "GROUP BY\n",
    "    i_item_id,\n",
    "    ca_country,\n",
    "    ca_state,\n",
    "    ca_county\n",
    "ORDER BY\n",
    "    ca_country,\n",
    "    ca_state,\n",
    "    ca_county,\n",
    "    i_item_id\n",
    "LIMIT 100;"
   ]
  },
  {
   "cell_type": "code",
   "execution_count": 0,
   "metadata": {
    "application/vnd.databricks.v1+cell": {
     "cellMetadata": {
      "byteLimit": 2048000,
      "implicitDf": true,
      "rowLimit": 10000
     },
     "inputWidgets": {},
     "nuid": "43ee46e8-38fa-4297-9b76-3c49da036b8c",
     "showTitle": false,
     "tableResultSettingsMap": {},
     "title": ""
    }
   },
   "outputs": [],
   "source": [
    "%sql\n",
    "-- Query 19: Sales and Returns by Category and Brand\n",
    "-- TPC-DS Query 19\n",
    "SELECT\n",
    "    i_brand_id,\n",
    "    i_brand,\n",
    "    i_manufact_id,\n",
    "    i_manufact,\n",
    "    SUM(ss_ext_sales_price) AS ext_price\n",
    "FROM store_sales\n",
    "JOIN item ON ss_item_sk = i_item_sk\n",
    "JOIN date_dim ON ss_sold_date_sk = d_date_sk\n",
    "JOIN customer ON ss_customer_sk = c_customer_sk\n",
    "JOIN customer_address ON c_current_addr_sk = ca_address_sk\n",
    "JOIN store ON ss_store_sk = s_store_sk\n",
    "WHERE i_manager_id = 7\n",
    "  AND d_moy = 11\n",
    "  AND d_year = 1999\n",
    "  AND substr(ca_zip, 1, 5) <> substr(s_zip, 1, 5)\n",
    "GROUP BY\n",
    "    i_brand,\n",
    "    i_brand_id,\n",
    "    i_manufact_id,\n",
    "    i_manufact\n",
    "ORDER BY\n",
    "    ext_price DESC,\n",
    "    i_brand,\n",
    "    i_brand_id,\n",
    "    i_manufact_id,\n",
    "    i_manufact\n",
    "LIMIT 100;"
   ]
  },
  {
   "cell_type": "code",
   "execution_count": 0,
   "metadata": {
    "application/vnd.databricks.v1+cell": {
     "cellMetadata": {
      "byteLimit": 2048000,
      "implicitDf": true,
      "rowLimit": 10000
     },
     "inputWidgets": {},
     "nuid": "9a6c6f2a-f372-4980-90ab-7dd453ce22d0",
     "showTitle": false,
     "tableResultSettingsMap": {},
     "title": ""
    }
   },
   "outputs": [],
   "source": [
    "%sql\n",
    "-- Query 20: Top Customers by Sales Amount\n",
    "-- TPC-DS Query 20\n",
    "SELECT\n",
    "    c_customer_id,\n",
    "    c_first_name,\n",
    "    c_last_name,\n",
    "    SUM(ss_net_paid) AS total_sales\n",
    "FROM store_sales\n",
    "JOIN customer ON ss_customer_sk = c_customer_sk\n",
    "JOIN date_dim ON ss_sold_date_sk = d_date_sk\n",
    "WHERE d_year = 2001\n",
    "GROUP BY\n",
    "    c_customer_id,\n",
    "    c_first_name,\n",
    "    c_last_name\n",
    "ORDER BY\n",
    "    total_sales DESC\n",
    "LIMIT 20;"
   ]
  }
 ],
 "metadata": {
  "application/vnd.databricks.v1+notebook": {
   "computePreferences": null,
   "dashboards": [],
   "environmentMetadata": null,
   "inputWidgetPreferences": null,
   "language": "python",
   "notebookMetadata": {
    "mostRecentlyExecutedCommandWithImplicitDF": {
     "commandId": 695471856182957,
     "dataframes": [
      "_sqldf"
     ]
    },
    "pythonIndentUnit": 2
   },
   "notebookName": "tpcds_queries_16_20_with_setup",
   "widgets": {}
  },
  "language_info": {
   "name": "python"
  }
 },
 "nbformat": 4,
 "nbformat_minor": 0
}
