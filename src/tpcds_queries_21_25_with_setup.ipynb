{
 "cells": [
  {
   "cell_type": "markdown",
   "metadata": {
    "application/vnd.databricks.v1+cell": {
     "cellMetadata": {
      "byteLimit": 2048000,
      "rowLimit": 10000
     },
     "inputWidgets": {},
     "nuid": "9b8062b4-27d4-46d2-9660-0e21b5591b79",
     "showTitle": false,
     "tableResultSettingsMap": {},
     "title": ""
    }
   },
   "source": [
    "# 🧪 TPC-DS Benchmark Queries 21–25\n",
    "Databricks SQL using `%run ./specify_catalog_schema`"
   ]
  },
  {
   "cell_type": "code",
   "execution_count": 0,
   "metadata": {
    "application/vnd.databricks.v1+cell": {
     "cellMetadata": {
      "byteLimit": 2048000,
      "implicitDf": true,
      "rowLimit": 10000
     },
     "inputWidgets": {},
     "nuid": "efcd017d-676a-409d-9ed3-0278f326a1c9",
     "showTitle": false,
     "tableResultSettingsMap": {},
     "title": ""
    }
   },
   "outputs": [],
   "source": [
    "%run ./specify_catalog_schema"
   ]
  },
  {
   "cell_type": "code",
   "execution_count": 0,
   "metadata": {
    "application/vnd.databricks.v1+cell": {
     "cellMetadata": {
      "byteLimit": 2048000,
      "implicitDf": true,
      "rowLimit": 10000
     },
     "inputWidgets": {},
     "nuid": "66cd9027-9f98-462a-a3a0-651e7fcee94d",
     "showTitle": false,
     "tableResultSettingsMap": {},
     "title": ""
    }
   },
   "outputs": [],
   "source": [
    "%sql\n",
    "-- Query 21: Inventory Evaluation\n",
    "-- TPC-DS Query 21\n",
    "SELECT\n",
    "    w_warehouse_name,\n",
    "    i_item_id,\n",
    "    SUM(CASE WHEN d_date < '2000-05-13' THEN inv_quantity_on_hand ELSE 0 END) AS inv_before,\n",
    "    SUM(CASE WHEN d_date >= '2000-05-13' THEN inv_quantity_on_hand ELSE 0 END) AS inv_after\n",
    "FROM inventory\n",
    "JOIN warehouse ON inv_warehouse_sk = w_warehouse_sk\n",
    "JOIN item ON inv_item_sk = i_item_sk\n",
    "JOIN date_dim ON inv_date_sk = d_date_sk\n",
    "WHERE i_current_price BETWEEN 0.99 AND 1.49\n",
    "  AND d_date BETWEEN DATE_SUB('2000-05-13', 30) AND DATE_ADD('2000-05-13', 30)\n",
    "GROUP BY w_warehouse_name, i_item_id\n",
    "HAVING CASE WHEN SUM(CASE WHEN d_date < '2000-05-13' THEN inv_quantity_on_hand ELSE 0 END) > 0\n",
    "             THEN SUM(CASE WHEN d_date >= '2000-05-13' THEN inv_quantity_on_hand ELSE 0 END) /\n",
    "                  SUM(CASE WHEN d_date < '2000-05-13' THEN inv_quantity_on_hand ELSE 0 END)\n",
    "             ELSE NULL END BETWEEN 2.0/3.0 AND 3.0/2.0\n",
    "ORDER BY w_warehouse_name, i_item_id\n",
    "LIMIT 100;"
   ]
  },
  {
   "cell_type": "code",
   "execution_count": 0,
   "metadata": {
    "application/vnd.databricks.v1+cell": {
     "cellMetadata": {
      "byteLimit": 2048000,
      "implicitDf": true,
      "rowLimit": 10000
     },
     "inputWidgets": {},
     "nuid": "3ea1669c-444a-442c-a53b-5a8d87c34f14",
     "showTitle": false,
     "tableResultSettingsMap": {},
     "title": ""
    }
   },
   "outputs": [],
   "source": [
    "%sql\n",
    "-- Query 22: Average Inventory Quantity on Hand\n",
    "-- TPC-DS Query 22\n",
    "SELECT\n",
    "    i_product_name,\n",
    "    i_brand,\n",
    "    i_class,\n",
    "    i_category,\n",
    "    AVG(inv_quantity_on_hand) AS qoh\n",
    "FROM inventory\n",
    "JOIN date_dim ON inv_date_sk = d_date_sk\n",
    "JOIN item ON inv_item_sk = i_item_sk\n",
    "JOIN warehouse ON inv_warehouse_sk = w_warehouse_sk\n",
    "WHERE d_month_seq BETWEEN 1205 AND 1216\n",
    "GROUP BY ROLLUP(i_product_name, i_brand, i_class, i_category)\n",
    "ORDER BY qoh, i_product_name, i_brand, i_class, i_category\n",
    "LIMIT 100;"
   ]
  },
  {
   "cell_type": "code",
   "execution_count": 0,
   "metadata": {
    "application/vnd.databricks.v1+cell": {
     "cellMetadata": {
      "byteLimit": 2048000,
      "implicitDf": true,
      "rowLimit": 10000
     },
     "inputWidgets": {},
     "nuid": "4d9553b7-dc3e-4908-9492-9a05aa036486",
     "showTitle": false,
     "tableResultSettingsMap": {},
     "title": ""
    }
   },
   "outputs": [],
   "source": [
    "%sql\n",
    "-- Query 23: Frequent Store Sales Items\n",
    "-- TPC-DS Query 23\n",
    "WITH frequent_ss_items AS (\n",
    "    SELECT\n",
    "        SUBSTR(i_item_desc, 1, 30) AS itemdesc,\n",
    "        i_item_sk AS item_sk,\n",
    "        d_date AS solddate,\n",
    "        COUNT(*) AS cnt\n",
    "    FROM store_sales\n",
    "    JOIN date_dim ON ss_sold_date_sk = d_date_sk\n",
    "    JOIN item ON ss_item_sk = i_item_sk\n",
    "    WHERE d_date BETWEEN '2000-01-27' AND DATE_ADD('2000-01-27', 30)\n",
    "    GROUP BY i_item_desc, i_item_sk, d_date\n",
    "    HAVING COUNT(*) > 4\n",
    ")\n",
    "SELECT\n",
    "    itemdesc,\n",
    "    item_sk,\n",
    "    solddate,\n",
    "    cnt\n",
    "FROM frequent_ss_items\n",
    "ORDER BY cnt DESC, itemdesc, item_sk, solddate\n",
    "LIMIT 100;"
   ]
  },
  {
   "cell_type": "code",
   "execution_count": 0,
   "metadata": {
    "application/vnd.databricks.v1+cell": {
     "cellMetadata": {
      "byteLimit": 2048000,
      "implicitDf": true,
      "rowLimit": 10000
     },
     "inputWidgets": {},
     "nuid": "5e1874a0-03f8-4909-81e5-04c8806b0b98",
     "showTitle": false,
     "tableResultSettingsMap": {},
     "title": ""
    }
   },
   "outputs": [],
   "source": [
    "%sql\n",
    "-- Query 24: Sales and Returns Analysis\n",
    "-- TPC-DS Query 24\n",
    "WITH ssales AS (\n",
    "    SELECT\n",
    "        c_last_name,\n",
    "        c_first_name,\n",
    "        s_store_name,\n",
    "        ca_state,\n",
    "        s_state,\n",
    "        i_color,\n",
    "        i_current_price,\n",
    "        i_manager_id,\n",
    "        i_units,\n",
    "        i_size,\n",
    "        SUM(ss_net_paid) AS netpaid\n",
    "    FROM store_sales\n",
    "    JOIN store_returns ON ss_ticket_number = sr_ticket_number AND ss_item_sk = sr_item_sk\n",
    "    JOIN store ON ss_store_sk = s_store_sk\n",
    "    JOIN item ON ss_item_sk = i_item_sk\n",
    "    JOIN customer ON ss_customer_sk = c_customer_sk\n",
    "    JOIN customer_address ON c_current_addr_sk = ca_address_sk\n",
    "    WHERE c_birth_country <> UPPER(ca_country)\n",
    "      AND s_zip = ca_zip\n",
    "      AND s_market_id = 8\n",
    "    GROUP BY c_last_name, c_first_name, s_store_name, ca_state, s_state, i_color, i_current_price, i_manager_id, i_units, i_size\n",
    ")\n",
    "SELECT\n",
    "    c_last_name,\n",
    "    c_first_name,\n",
    "    s_store_name,\n",
    "    SUM(netpaid) AS paid\n",
    "FROM ssales\n",
    "WHERE i_color = 'pale'\n",
    "GROUP BY c_last_name, c_first_name, s_store_name\n",
    "HAVING SUM(netpaid) > (SELECT 0.05 * AVG(netpaid) FROM ssales)\n",
    "ORDER BY c_last_name, c_first_name, s_store_name;"
   ]
  },
  {
   "cell_type": "code",
   "execution_count": 0,
   "metadata": {
    "application/vnd.databricks.v1+cell": {
     "cellMetadata": {
      "byteLimit": 2048000,
      "implicitDf": true,
      "rowLimit": 10000
     },
     "inputWidgets": {},
     "nuid": "a2541af4-04ec-4f55-bac6-6fd5fa8bb153",
     "showTitle": false,
     "tableResultSettingsMap": {},
     "title": ""
    }
   },
   "outputs": [],
   "source": [
    "%sql\n",
    "-- Query 25: Profit and Loss Analysis\n",
    "-- TPC-DS Query 25\n",
    "SELECT\n",
    "    i_item_id,\n",
    "    i_item_desc,\n",
    "    s_store_id,\n",
    "    s_store_name,\n",
    "    MAX(ss_net_profit) AS store_sales_profit,\n",
    "    MAX(sr_net_loss) AS store_returns_loss,\n",
    "    MAX(cs_net_profit) AS catalog_sales_profit\n",
    "FROM store_sales\n",
    "JOIN store_returns ON ss_customer_sk = sr_customer_sk AND ss_item_sk = sr_item_sk AND ss_ticket_number = sr_ticket_number\n",
    "JOIN catalog_sales ON sr_customer_sk = cs_bill_customer_sk AND sr_item_sk = cs_item_sk\n",
    "JOIN date_dim d1 ON ss_sold_date_sk = d1.d_date_sk\n",
    "JOIN date_dim d2 ON sr_returned_date_sk = d2.d_date_sk\n",
    "JOIN date_dim d3 ON cs_sold_date_sk = d3.d_date_sk\n",
    "JOIN store ON ss_store_sk = s_store_sk\n",
    "JOIN item ON i_item_sk = ss_item_sk\n",
    "WHERE d1.d_moy = 4\n",
    "  AND d1.d_year = 2001\n",
    "  AND d2.d_moy BETWEEN 4 AND 10\n",
    "  AND d2.d_year = 2001\n",
    "  AND d3.d_moy BETWEEN 4 AND 10\n",
    "  AND d3.d_year = 2001\n",
    "GROUP BY i_item_id, i_item_desc, s_store_id, s_store_name\n",
    "ORDER BY i_item_id, i_item_desc, s_store_id, s_store_name\n",
    "LIMIT 100;"
   ]
  }
 ],
 "metadata": {
  "application/vnd.databricks.v1+notebook": {
   "computePreferences": null,
   "dashboards": [],
   "environmentMetadata": null,
   "inputWidgetPreferences": null,
   "language": "python",
   "notebookMetadata": {
    "mostRecentlyExecutedCommandWithImplicitDF": {
     "commandId": 695471856182974,
     "dataframes": [
      "_sqldf"
     ]
    },
    "pythonIndentUnit": 2
   },
   "notebookName": "tpcds_queries_21_25_with_setup",
   "widgets": {}
  },
  "language_info": {
   "name": "python"
  }
 },
 "nbformat": 4,
 "nbformat_minor": 0
}
