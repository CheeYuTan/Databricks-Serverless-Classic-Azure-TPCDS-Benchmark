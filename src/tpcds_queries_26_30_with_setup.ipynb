{
 "cells": [
  {
   "cell_type": "markdown",
   "metadata": {
    "application/vnd.databricks.v1+cell": {
     "cellMetadata": {
      "byteLimit": 2048000,
      "rowLimit": 10000
     },
     "inputWidgets": {},
     "nuid": "c0e583b4-d7ed-4502-8aab-f69ea57af495",
     "showTitle": false,
     "tableResultSettingsMap": {},
     "title": ""
    }
   },
   "source": [
    "# 🧪 TPC-DS Benchmark Queries 26–30\n",
    "Databricks SQL using `%run ./specify_catalog_schema`"
   ]
  },
  {
   "cell_type": "code",
   "execution_count": 0,
   "metadata": {
    "application/vnd.databricks.v1+cell": {
     "cellMetadata": {
      "byteLimit": 2048000,
      "implicitDf": true,
      "rowLimit": 10000
     },
     "inputWidgets": {},
     "nuid": "d48c2486-885c-4636-8860-396c06d87064",
     "showTitle": false,
     "tableResultSettingsMap": {},
     "title": ""
    }
   },
   "outputs": [],
   "source": [
    "%run ./specify_catalog_schema"
   ]
  },
  {
   "cell_type": "code",
   "execution_count": 0,
   "metadata": {
    "application/vnd.databricks.v1+cell": {
     "cellMetadata": {
      "byteLimit": 2048000,
      "implicitDf": true,
      "rowLimit": 10000
     },
     "inputWidgets": {},
     "nuid": "1a1c4faa-51c6-401b-a78b-9ea9882cb64a",
     "showTitle": false,
     "tableResultSettingsMap": {},
     "title": ""
    }
   },
   "outputs": [],
   "source": [
    "%sql\n",
    "-- Query 26: Catalog Sales Analysis by Demographics and Promotion\n",
    "-- TPC-DS Query 26\n",
    "SELECT\n",
    "    i_item_id,\n",
    "    AVG(cs_quantity) AS agg1,\n",
    "    AVG(cs_list_price) AS agg2,\n",
    "    AVG(cs_coupon_amt) AS agg3,\n",
    "    AVG(cs_sales_price) AS agg4\n",
    "FROM catalog_sales\n",
    "JOIN customer_demographics ON cs_bill_cdemo_sk = cd_demo_sk\n",
    "JOIN date_dim ON cs_sold_date_sk = d_date_sk\n",
    "JOIN item ON cs_item_sk = i_item_sk\n",
    "JOIN promotion ON cs_promo_sk = p_promo_sk\n",
    "WHERE cd_gender = 'F'\n",
    "  AND cd_marital_status = 'W'\n",
    "  AND cd_education_status = 'Primary'\n",
    "  AND (p_channel_email = 'N' OR p_channel_event = 'N')\n",
    "  AND d_year = 1998\n",
    "GROUP BY i_item_id\n",
    "ORDER BY i_item_id\n",
    "LIMIT 100;"
   ]
  },
  {
   "cell_type": "code",
   "execution_count": 0,
   "metadata": {
    "application/vnd.databricks.v1+cell": {
     "cellMetadata": {
      "byteLimit": 2048000,
      "implicitDf": true,
      "rowLimit": 10000
     },
     "inputWidgets": {},
     "nuid": "36bb00c1-a097-4714-b1b5-a5e39803d4d2",
     "showTitle": false,
     "tableResultSettingsMap": {},
     "title": ""
    }
   },
   "outputs": [],
   "source": [
    "%sql\n",
    "-- Query 27: Store Sales Analysis by Demographics and State\n",
    "-- TPC-DS Query 27\n",
    "SELECT\n",
    "    i_item_id,\n",
    "    s_state,\n",
    "    GROUPING(s_state) AS g_state,\n",
    "    AVG(ss_quantity) AS agg1,\n",
    "    AVG(ss_list_price) AS agg2,\n",
    "    AVG(ss_coupon_amt) AS agg3,\n",
    "    AVG(ss_sales_price) AS agg4\n",
    "FROM store_sales\n",
    "JOIN customer_demographics ON ss_cdemo_sk = cd_demo_sk\n",
    "JOIN date_dim ON ss_sold_date_sk = d_date_sk\n",
    "JOIN store ON ss_store_sk = s_store_sk\n",
    "JOIN item ON ss_item_sk = i_item_sk\n",
    "WHERE cd_gender = 'F'\n",
    "  AND cd_marital_status = 'W'\n",
    "  AND cd_education_status = 'Primary'\n",
    "  AND d_year = 1998\n",
    "  AND s_state IN ('TN','TN', 'TN', 'TN', 'TN', 'TN')\n",
    "GROUP BY ROLLUP(i_item_id, s_state)\n",
    "ORDER BY i_item_id, s_state\n",
    "LIMIT 100;"
   ]
  },
  {
   "cell_type": "code",
   "execution_count": 0,
   "metadata": {
    "application/vnd.databricks.v1+cell": {
     "cellMetadata": {
      "byteLimit": 2048000,
      "implicitDf": true,
      "rowLimit": 10000
     },
     "inputWidgets": {},
     "nuid": "9ee988a3-11f2-44aa-922e-1ff328504123",
     "showTitle": false,
     "tableResultSettingsMap": {},
     "title": ""
    }
   },
   "outputs": [],
   "source": [
    "%sql\n",
    "-- Query 28: Store Sales Pricing Summary Report\n",
    "-- TPC-DS Query 28\n",
    "SELECT *\n",
    "FROM (\n",
    "    SELECT\n",
    "        AVG(ss_list_price) AS B1_LP,\n",
    "        COUNT(ss_list_price) AS B1_CNT,\n",
    "        COUNT(DISTINCT ss_list_price) AS B1_CNTD\n",
    "    FROM store_sales\n",
    "    WHERE ss_quantity BETWEEN 0 AND 5\n",
    "      AND (ss_list_price BETWEEN 11 AND 21\n",
    "           OR ss_coupon_amt BETWEEN 460 AND 1460\n",
    "           OR ss_wholesale_cost BETWEEN 14 AND 34)\n",
    ") B1,\n",
    "(\n",
    "    SELECT\n",
    "        AVG(ss_list_price) AS B2_LP,\n",
    "        COUNT(ss_list_price) AS B2_CNT,\n",
    "        COUNT(DISTINCT ss_list_price) AS B2_CNTD\n",
    "    FROM store_sales\n",
    "    WHERE ss_quantity BETWEEN 6 AND 10\n",
    "      AND (ss_list_price BETWEEN 1 AND 11\n",
    "           OR ss_coupon_amt BETWEEN 35 AND 1035\n",
    "           OR ss_wholesale_cost BETWEEN 50 AND 70)\n",
    ") B2,\n",
    "(\n",
    "    SELECT\n",
    "        AVG(ss_list_price) AS B3_LP,\n",
    "        COUNT(ss_list_price) AS B3_CNT,\n",
    "        COUNT(DISTINCT ss_list_price) AS B3_CNTD\n",
    "    FROM store_sales\n",
    "    WHERE ss_quantity BETWEEN 11 AND 15\n",
    "      AND (ss_list_price BETWEEN 91 AND 101\n",
    "           OR ss_coupon_amt BETWEEN 1412 AND 2412\n",
    "           OR ss_wholesale_cost BETWEEN 17 AND 37)\n",
    ") B3,\n",
    "(\n",
    "    SELECT\n",
    "        AVG(ss_list_price) AS B4_LP,\n",
    "        COUNT(ss_list_price) AS B4_CNT,\n",
    "        COUNT(DISTINCT ss_list_price) AS B4_CNTD\n",
    "    FROM store_sales\n",
    "    WHERE ss_quantity BETWEEN 16 AND 20\n",
    "      AND (ss_list_price BETWEEN 9 AND 19\n",
    "           OR ss_coupon_amt BETWEEN 5270 AND 6270\n",
    "           OR ss_wholesale_cost BETWEEN 29 AND 49)\n",
    ") B4,\n",
    "(\n",
    "    SELECT\n",
    "        AVG(ss_list_price) AS B5_LP,\n",
    "        COUNT(ss_list_price) AS B5_CNT,\n",
    "        COUNT(DISTINCT ss_list_price) AS B5_CNTD\n",
    "    FROM store_sales\n",
    "    WHERE ss_quantity BETWEEN 21 AND 25\n",
    "      AND (ss_list_price BETWEEN 45 AND 55\n",
    "           OR ss_coupon_amt BETWEEN 826 AND 1826\n",
    "           OR ss_wholesale_cost BETWEEN 5 AND 25)\n",
    ") B5,\n",
    "(\n",
    "    SELECT\n",
    "        AVG(ss_list_price) AS B6_LP,\n",
    "        COUNT(ss_list_price) AS B6_CNT,\n",
    "        COUNT(DISTINCT ss_list_price) AS B6_CNTD\n",
    "    FROM store_sales\n",
    "    WHERE ss_quantity BETWEEN 26 AND 30\n",
    "      AND (ss_list_price BETWEEN 174 AND 184\n",
    "           OR ss_coupon_amt BETWEEN 5548 AND 6548\n",
    "           OR ss_wholesale_cost BETWEEN 42 AND 62)\n",
    ") B6\n",
    "LIMIT 100;"
   ]
  },
  {
   "cell_type": "code",
   "execution_count": 0,
   "metadata": {
    "application/vnd.databricks.v1+cell": {
     "cellMetadata": {
      "byteLimit": 2048000,
      "implicitDf": true,
      "rowLimit": 10000
     },
     "inputWidgets": {},
     "nuid": "1b1ac71c-2da2-4096-b8bc-492fb39868c7",
     "showTitle": false,
     "tableResultSettingsMap": {},
     "title": ""
    }
   },
   "outputs": [],
   "source": [
    "%sql\n",
    "-- Query 29: Sales and Returns Summary Report\n",
    "-- TPC-DS Query 29\n",
    "SELECT\n",
    "    i_item_id,\n",
    "    i_item_desc,\n",
    "    s_store_id,\n",
    "    s_store_name,\n",
    "    AVG(ss_quantity) AS store_sales_quantity,\n",
    "    AVG(sr_return_quantity) AS store_returns_quantity,\n",
    "    AVG(cs_quantity) AS catalog_sales_quantity\n",
    "FROM store_sales\n",
    "JOIN store_returns ON ss_customer_sk = sr_customer_sk\n",
    "                   AND ss_item_sk = sr_item_sk\n",
    "                   AND ss_ticket_number = sr_ticket_number\n",
    "JOIN catalog_sales ON sr_customer_sk = cs_bill_customer_sk\n",
    "                   AND sr_item_sk = cs_item_sk\n",
    "JOIN date_dim d1 ON ss_sold_date_sk = d1.d_date_sk\n",
    "JOIN date_dim d2 ON sr_returned_date_sk = d2.d_date_sk\n",
    "JOIN date_dim d3 ON cs_sold_date_sk = d3.d_date_sk\n",
    "JOIN store ON ss_store_sk = s_store_sk\n",
    "JOIN item ON i_item_sk = ss_item_sk\n",
    "WHERE d1.d_moy = 4\n",
    "  AND d1.d_year = 1998\n",
    "  AND d2.d_moy BETWEEN 4 AND 7\n",
    "  AND d2.d_year = 1998\n",
    "  AND d3.d_year IN (1998, 1999, 2000)\n",
    "GROUP BY i_item_id, i_item_desc, s_store_id, s_store_name\n",
    "ORDER BY i_item_id, i_item_desc, s_store_id, s_store_name\n",
    "LIMIT 100;"
   ]
  }
 ],
 "metadata": {
  "application/vnd.databricks.v1+notebook": {
   "computePreferences": null,
   "dashboards": [],
   "environmentMetadata": null,
   "inputWidgetPreferences": null,
   "language": "python",
   "notebookMetadata": {
    "mostRecentlyExecutedCommandWithImplicitDF": {
     "commandId": 695471856183004,
     "dataframes": [
      "_sqldf"
     ]
    },
    "pythonIndentUnit": 2
   },
   "notebookName": "tpcds_queries_26_30_with_setup",
   "widgets": {}
  },
  "language_info": {
   "name": "python"
  }
 },
 "nbformat": 4,
 "nbformat_minor": 0
}
