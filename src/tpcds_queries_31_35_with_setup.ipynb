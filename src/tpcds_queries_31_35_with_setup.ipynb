{
 "cells": [
  {
   "cell_type": "markdown",
   "metadata": {
    "application/vnd.databricks.v1+cell": {
     "cellMetadata": {
      "byteLimit": 2048000,
      "rowLimit": 10000
     },
     "inputWidgets": {},
     "nuid": "d7a931d4-fe30-4b44-9d82-17ea837fda43",
     "showTitle": false,
     "tableResultSettingsMap": {},
     "title": ""
    }
   },
   "source": [
    "# 🧪 TPC-DS Benchmark Queries 31–35\n",
    "Databricks SQL using `%run ./specify_catalog_schema`"
   ]
  },
  {
   "cell_type": "code",
   "execution_count": 0,
   "metadata": {
    "application/vnd.databricks.v1+cell": {
     "cellMetadata": {
      "byteLimit": 2048000,
      "implicitDf": true,
      "rowLimit": 10000
     },
     "inputWidgets": {},
     "nuid": "1db03a76-0527-44ba-937f-1c15420ca41b",
     "showTitle": false,
     "tableResultSettingsMap": {},
     "title": ""
    }
   },
   "outputs": [],
   "source": [
    "%run ./specify_catalog_schema"
   ]
  },
  {
   "cell_type": "code",
   "execution_count": 0,
   "metadata": {
    "application/vnd.databricks.v1+cell": {
     "cellMetadata": {
      "byteLimit": 2048000,
      "implicitDf": true,
      "rowLimit": 10000
     },
     "inputWidgets": {},
     "nuid": "9dc017a4-f7b4-4659-addf-03118d3e6034",
     "showTitle": false,
     "tableResultSettingsMap": {},
     "title": ""
    }
   },
   "outputs": [],
   "source": [
    "%sql\n",
    "-- Query 31: Sales Comparison by County and Quarter\n",
    "-- TPC-DS Query 31\n",
    "WITH ss AS (\n",
    "    SELECT\n",
    "        ca_county,\n",
    "        d_qoy,\n",
    "        d_year,\n",
    "        SUM(ss_ext_sales_price) AS store_sales\n",
    "    FROM store_sales\n",
    "    JOIN date_dim ON ss_sold_date_sk = d_date_sk\n",
    "    JOIN customer_address ON ss_addr_sk = ca_address_sk\n",
    "    GROUP BY ca_county, d_qoy, d_year\n",
    "),\n",
    "ws AS (\n",
    "    SELECT\n",
    "        ca_county,\n",
    "        d_qoy,\n",
    "        d_year,\n",
    "        SUM(ws_ext_sales_price) AS web_sales\n",
    "    FROM web_sales\n",
    "    JOIN date_dim ON ws_sold_date_sk = d_date_sk\n",
    "    JOIN customer_address ON ws_bill_addr_sk = ca_address_sk\n",
    "    GROUP BY ca_county, d_qoy, d_year\n",
    ")\n",
    "SELECT\n",
    "    ss.ca_county,\n",
    "    ss.d_year,\n",
    "    ss.d_qoy,\n",
    "    ss.store_sales,\n",
    "    ws.web_sales,\n",
    "    ws.web_sales / ss.store_sales AS ratio\n",
    "FROM ss\n",
    "JOIN ws ON ss.ca_county = ws.ca_county AND ss.d_qoy = ws.d_qoy AND ss.d_year = ws.d_year\n",
    "ORDER BY ss.ca_county, ss.d_year, ss.d_qoy\n",
    "LIMIT 100;"
   ]
  },
  {
   "cell_type": "code",
   "execution_count": 0,
   "metadata": {
    "application/vnd.databricks.v1+cell": {
     "cellMetadata": {
      "byteLimit": 2048000,
      "implicitDf": true,
      "rowLimit": 10000
     },
     "inputWidgets": {},
     "nuid": "030e7082-f855-4946-844d-cf8445ee92c1",
     "showTitle": false,
     "tableResultSettingsMap": {},
     "title": ""
    }
   },
   "outputs": [],
   "source": [
    "%sql\n",
    "-- Query 32: Excess Discount Amount\n",
    "-- TPC-DS Query 32\n",
    "SELECT\n",
    "    SUM(cs_ext_discount_amt) AS excess_discount_amount\n",
    "FROM catalog_sales\n",
    "JOIN item ON cs_item_sk = i_item_sk\n",
    "JOIN date_dim ON cs_sold_date_sk = d_date_sk\n",
    "WHERE i_manufact_id = 269\n",
    "  AND d_date BETWEEN '1998-03-18' AND DATE_ADD('1998-03-18', 90)\n",
    "  AND cs_ext_discount_amt > (\n",
    "      SELECT 1.3 * AVG(cs_ext_discount_amt)\n",
    "      FROM catalog_sales\n",
    "      JOIN date_dim ON cs_sold_date_sk = d_date_sk\n",
    "      WHERE i_manufact_id = 269\n",
    "        AND d_date BETWEEN '1998-03-18' AND DATE_ADD('1998-03-18', 90)\n",
    "  );"
   ]
  },
  {
   "cell_type": "code",
   "execution_count": 0,
   "metadata": {
    "application/vnd.databricks.v1+cell": {
     "cellMetadata": {
      "byteLimit": 2048000,
      "implicitDf": true,
      "rowLimit": 10000
     },
     "inputWidgets": {},
     "nuid": "06584fb9-f3b7-4a27-9639-b756631822a7",
     "showTitle": false,
     "tableResultSettingsMap": {},
     "title": ""
    }
   },
   "outputs": [],
   "source": [
    "%sql\n",
    "-- Query 33: Sales by Manufacturer\n",
    "-- TPC-DS Query 33\n",
    "WITH ss AS (\n",
    "    SELECT i_manufact_id, SUM(ss_ext_sales_price) AS total_sales\n",
    "    FROM store_sales\n",
    "    JOIN date_dim ON ss_sold_date_sk = d_date_sk\n",
    "    JOIN customer_address ON ss_addr_sk = ca_address_sk\n",
    "    JOIN item ON ss_item_sk = i_item_sk\n",
    "    WHERE i_manufact_id IN (SELECT i_manufact_id FROM item WHERE i_category = 'Books')\n",
    "      AND d_year = 1999 AND d_moy = 3 AND ca_gmt_offset = -5\n",
    "    GROUP BY i_manufact_id\n",
    "),\n",
    "cs AS (\n",
    "    SELECT i_manufact_id, SUM(cs_ext_sales_price) AS total_sales\n",
    "    FROM catalog_sales\n",
    "    JOIN date_dim ON cs_sold_date_sk = d_date_sk\n",
    "    JOIN customer_address ON cs_bill_addr_sk = ca_address_sk\n",
    "    JOIN item ON cs_item_sk = i_item_sk\n",
    "    WHERE i_manufact_id IN (SELECT i_manufact_id FROM item WHERE i_category = 'Books')\n",
    "      AND d_year = 1999 AND d_moy = 3 AND ca_gmt_offset = -5\n",
    "    GROUP BY i_manufact_id\n",
    "),\n",
    "ws AS (\n",
    "    SELECT i_manufact_id, SUM(ws_ext_sales_price) AS total_sales\n",
    "    FROM web_sales\n",
    "    JOIN date_dim ON ws_sold_date_sk = d_date_sk\n",
    "    JOIN customer_address ON ws_bill_addr_sk = ca_address_sk\n",
    "    JOIN item ON ws_item_sk = i_item_sk\n",
    "    WHERE i_manufact_id IN (SELECT i_manufact_id FROM item WHERE i_category = 'Books')\n",
    "      AND d_year = 1999 AND d_moy = 3 AND ca_gmt_offset = -5\n",
    "    GROUP BY i_manufact_id\n",
    ")\n",
    "SELECT i_manufact_id, SUM(total_sales) AS total_sales\n",
    "FROM (\n",
    "    SELECT * FROM ss\n",
    "    UNION ALL\n",
    "    SELECT * FROM cs\n",
    "    UNION ALL\n",
    "    SELECT * FROM ws\n",
    ") all_sales\n",
    "GROUP BY i_manufact_id\n",
    "ORDER BY total_sales\n",
    "LIMIT 100;"
   ]
  },
  {
   "cell_type": "code",
   "execution_count": 0,
   "metadata": {
    "application/vnd.databricks.v1+cell": {
     "cellMetadata": {
      "byteLimit": 2048000,
      "implicitDf": true,
      "rowLimit": 10000
     },
     "inputWidgets": {},
     "nuid": "b4e58753-7dad-4255-bffa-18e09148e540",
     "showTitle": false,
     "tableResultSettingsMap": {},
     "title": ""
    }
   },
   "outputs": [],
   "source": [
    "%sql\n",
    "-- Query 34: Frequent Shoppers Analysis\n",
    "-- TPC-DS Query 34\n",
    "SELECT\n",
    "    c_last_name,\n",
    "    c_first_name,\n",
    "    c_salutation,\n",
    "    c_preferred_cust_flag,\n",
    "    ss_ticket_number,\n",
    "    cnt\n",
    "FROM (\n",
    "    SELECT\n",
    "        ss_ticket_number,\n",
    "        ss_customer_sk,\n",
    "        COUNT(*) AS cnt\n",
    "    FROM store_sales\n",
    "    JOIN date_dim ON ss_sold_date_sk = d_date_sk\n",
    "    JOIN store ON ss_store_sk = s_store_sk\n",
    "    JOIN household_demographics ON ss_hdemo_sk = hd_demo_sk\n",
    "    WHERE (d_dom BETWEEN 1 AND 3 OR d_dom BETWEEN 25 AND 28)\n",
    "      AND (hd_buy_potential = '>10000' OR hd_buy_potential = 'unknown')\n",
    "      AND hd_vehicle_count > 0\n",
    "      AND (CASE WHEN hd_vehicle_count > 0 THEN hd_dep_count / hd_vehicle_count ELSE NULL END) > 1.2\n",
    "      AND d_year IN (1999, 2000, 2001)\n",
    "      AND s_county IN ('Williamson County', 'Williamson County', 'Williamson County', 'Williamson County', 'Williamson County', 'Williamson County', 'Williamson County', 'Williamson County')\n",
    "    GROUP BY ss_ticket_number, ss_customer_sk\n",
    ") dn\n",
    "JOIN customer ON ss_customer_sk = c_customer_sk\n",
    "WHERE cnt BETWEEN 15 AND 20\n",
    "ORDER BY c_last_name, c_first_name, c_salutation, c_preferred_cust_flag DESC;"
   ]
  },
  {
   "cell_type": "code",
   "execution_count": 0,
   "metadata": {
    "application/vnd.databricks.v1+cell": {
     "cellMetadata": {
      "byteLimit": 2048000,
      "implicitDf": true,
      "rowLimit": 10000
     },
     "inputWidgets": {},
     "nuid": "2ad11687-fc68-493f-af45-a103f1acd6ce",
     "showTitle": false,
     "tableResultSettingsMap": {},
     "title": ""
    }
   },
   "outputs": [],
   "source": [
    "%sql\n",
    "-- Query 35: Customer Demographics Analysis\n",
    "-- TPC-DS Query 35\n",
    "SELECT\n",
    "    ca_state,\n",
    "    cd_gender,\n",
    "    cd_marital_status,\n",
    "    cd_dep_count,\n",
    "    COUNT(*) AS cnt1,\n",
    "    STDDEV_SAMP(cd_dep_count),\n",
    "    AVG(cd_dep_count),\n",
    "    MAX(cd_dep_count),\n",
    "    cd_dep_employed_count,\n",
    "    COUNT(*) AS cnt2,\n",
    "    STDDEV_SAMP(cd_dep_employed_count),\n",
    "    AVG(cd_dep_employed_count),\n",
    "    MAX(cd_dep_employed_count),\n",
    "    cd_dep_college_count,\n",
    "    COUNT(*) AS cnt3,\n",
    "    STDDEV_SAMP(cd_dep_college_count),\n",
    "    AVG(cd_dep_college_count),\n",
    "    MAX(cd_dep_college_count)\n",
    "FROM customer c\n",
    "JOIN customer_address ca ON c.c_current_addr_sk = ca.ca_address_sk\n",
    "JOIN customer_demographics ON c.c_current_cdemo_sk = cd_demo_sk\n",
    "JOIN household_demographics ON c.c_current_hdemo_sk = hd_demo_sk\n",
    "WHERE cd_gender = 'F'\n",
    "  AND cd_marital_status = 'M'\n",
    "  AND cd_education_status = 'Advanced Degree'\n",
    "GROUP BY ca_state, cd_gender, cd_marital_status, cd_dep_count,\n",
    "         cd_dep_employed_count, cd_dep_college_count\n",
    "ORDER BY ca_state, cd_gender, cd_marital_status, cd_dep_count,\n",
    "         cd_dep_employed_count, cd_dep_college_count\n",
    "LIMIT 100;"
   ]
  }
 ],
 "metadata": {
  "application/vnd.databricks.v1+notebook": {
   "computePreferences": null,
   "dashboards": [],
   "environmentMetadata": null,
   "inputWidgetPreferences": null,
   "language": "python",
   "notebookMetadata": {
    "mostRecentlyExecutedCommandWithImplicitDF": {
     "commandId": 695471856183032,
     "dataframes": [
      "_sqldf"
     ]
    },
    "pythonIndentUnit": 2
   },
   "notebookName": "tpcds_queries_31_35_with_setup",
   "widgets": {}
  },
  "language_info": {
   "name": "python"
  }
 },
 "nbformat": 4,
 "nbformat_minor": 0
}
