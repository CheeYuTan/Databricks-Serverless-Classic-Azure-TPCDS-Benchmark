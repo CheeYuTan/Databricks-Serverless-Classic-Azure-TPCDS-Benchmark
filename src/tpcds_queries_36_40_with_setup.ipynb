{
 "cells": [
  {
   "cell_type": "markdown",
   "metadata": {
    "application/vnd.databricks.v1+cell": {
     "cellMetadata": {
      "byteLimit": 2048000,
      "rowLimit": 10000
     },
     "inputWidgets": {},
     "nuid": "5caef6dc-9fa0-4960-a5a6-0a3699e93161",
     "showTitle": false,
     "tableResultSettingsMap": {},
     "title": ""
    }
   },
   "source": [
    "# 🧪 TPC-DS Benchmark Queries 36–40 (Fixed Query 37)\n",
    "Databricks SQL using `%run ./specify_catalog_schema`"
   ]
  },
  {
   "cell_type": "code",
   "execution_count": 0,
   "metadata": {
    "application/vnd.databricks.v1+cell": {
     "cellMetadata": {
      "byteLimit": 2048000,
      "implicitDf": true,
      "rowLimit": 10000
     },
     "inputWidgets": {},
     "nuid": "b306b407-ce4a-47e1-b143-d0f00563dc58",
     "showTitle": false,
     "tableResultSettingsMap": {},
     "title": ""
    }
   },
   "outputs": [],
   "source": [
    "%run ./specify_catalog_schema"
   ]
  },
  {
   "cell_type": "code",
   "execution_count": 0,
   "metadata": {
    "application/vnd.databricks.v1+cell": {
     "cellMetadata": {
      "byteLimit": 2048000,
      "implicitDf": true,
      "rowLimit": 10000
     },
     "inputWidgets": {},
     "nuid": "fa19cf23-98d2-4962-b8fe-4972f5cbefbf",
     "showTitle": false,
     "tableResultSettingsMap": {},
     "title": ""
    }
   },
   "outputs": [],
   "source": [
    "%sql\n",
    "-- Query 36: Inventory Performance by Category and Class\n",
    "-- TPC-DS Query 36\n",
    "SELECT\n",
    "    SUM(ss_net_profit) / SUM(ss_ext_sales_price) AS gross_margin,\n",
    "    i_category,\n",
    "    i_class,\n",
    "    GROUPING(i_category) + GROUPING(i_class) AS lochierarchy,\n",
    "    RANK() OVER (\n",
    "        PARTITION BY GROUPING(i_category) + GROUPING(i_class),\n",
    "        CASE WHEN GROUPING(i_class) = 0 THEN i_category END\n",
    "        ORDER BY SUM(ss_net_profit) / SUM(ss_ext_sales_price) ASC\n",
    "    ) AS rank_within_parent\n",
    "FROM\n",
    "    store_sales\n",
    "    JOIN date_dim ON d_date_sk = ss_sold_date_sk\n",
    "    JOIN item ON i_item_sk = ss_item_sk\n",
    "    JOIN store ON s_store_sk = ss_store_sk\n",
    "WHERE\n",
    "    d_year = 2000\n",
    "    AND s_state IN ('TN', 'TN', 'TN', 'TN', 'TN', 'TN', 'TN', 'TN')\n",
    "GROUP BY\n",
    "    ROLLUP(i_category, i_class)\n",
    "ORDER BY\n",
    "    lochierarchy DESC,\n",
    "    CASE WHEN lochierarchy = 0 THEN i_category END,\n",
    "    rank_within_parent\n",
    "LIMIT 100;"
   ]
  },
  {
   "cell_type": "code",
   "execution_count": 0,
   "metadata": {
    "application/vnd.databricks.v1+cell": {
     "cellMetadata": {
      "byteLimit": 2048000,
      "implicitDf": true,
      "rowLimit": 10000
     },
     "inputWidgets": {},
     "nuid": "7a2b838f-4791-4481-af30-bc72083ff905",
     "showTitle": false,
     "tableResultSettingsMap": {},
     "title": ""
    }
   },
   "outputs": [],
   "source": [
    "%sql\n",
    "-- Query 37: Inventory Analysis by Price and Manufacturer (Fixed)\n",
    "-- TPC-DS Query 37 (Fixed for Databricks SQL)\n",
    "SELECT\n",
    "    i_item_id,\n",
    "    i_item_desc,\n",
    "    i_current_price\n",
    "FROM\n",
    "    item\n",
    "    JOIN inventory ON inv_item_sk = i_item_sk\n",
    "    JOIN date_dim ON d_date_sk = inv_date_sk\n",
    "    JOIN catalog_sales ON cs_item_sk = i_item_sk\n",
    "WHERE\n",
    "    i_current_price BETWEEN 22 AND 52\n",
    "    AND d_date BETWEEN DATE('2001-06-02') AND DATE_ADD(DATE('2001-06-02'), 60)\n",
    "    AND i_manufact_id IN (678, 964, 918, 849)\n",
    "    AND inv_quantity_on_hand BETWEEN 100 AND 500\n",
    "GROUP BY\n",
    "    i_item_id,\n",
    "    i_item_desc,\n",
    "    i_current_price\n",
    "ORDER BY\n",
    "    i_item_id\n",
    "LIMIT 100;"
   ]
  },
  {
   "cell_type": "code",
   "execution_count": 0,
   "metadata": {
    "application/vnd.databricks.v1+cell": {
     "cellMetadata": {
      "byteLimit": 2048000,
      "implicitDf": true,
      "rowLimit": 10000
     },
     "inputWidgets": {},
     "nuid": "9131999e-0c7d-41ff-b619-5cc36b1320e2",
     "showTitle": false,
     "tableResultSettingsMap": {},
     "title": ""
    }
   },
   "outputs": [],
   "source": [
    "%sql\n",
    "-- Query 38: Customer Shopping Patterns Across Channels\n",
    "-- TPC-DS Query 38\n",
    "SELECT COUNT(*)\n",
    "FROM (\n",
    "    SELECT DISTINCT c_last_name, c_first_name, d_date\n",
    "    FROM store_sales\n",
    "        JOIN date_dim ON ss_sold_date_sk = d_date_sk\n",
    "        JOIN customer ON ss_customer_sk = c_customer_sk\n",
    "    WHERE d_month_seq BETWEEN 1212 AND 1223\n",
    "    INTERSECT\n",
    "    SELECT DISTINCT c_last_name, c_first_name, d_date\n",
    "    FROM catalog_sales\n",
    "        JOIN date_dim ON cs_sold_date_sk = d_date_sk\n",
    "        JOIN customer ON cs_bill_customer_sk = c_customer_sk\n",
    "    WHERE d_month_seq BETWEEN 1212 AND 1223\n",
    "    INTERSECT\n",
    "    SELECT DISTINCT c_last_name, c_first_name, d_date\n",
    "    FROM web_sales\n",
    "        JOIN date_dim ON ws_sold_date_sk = d_date_sk\n",
    "        JOIN customer ON ws_bill_customer_sk = c_customer_sk\n",
    "    WHERE d_month_seq BETWEEN 1212 AND 1223\n",
    ") AS cross_channel_customers;"
   ]
  },
  {
   "cell_type": "code",
   "execution_count": 0,
   "metadata": {
    "application/vnd.databricks.v1+cell": {
     "cellMetadata": {
      "byteLimit": 2048000,
      "implicitDf": true,
      "rowLimit": 10000
     },
     "inputWidgets": {},
     "nuid": "f9f873f6-ff17-494d-ac3d-e70758a86c5c",
     "showTitle": false,
     "tableResultSettingsMap": {},
     "title": ""
    }
   },
   "outputs": [],
   "source": [
    "%sql\n",
    "-- Query 39: Inventory Variance Analysis by Warehouse and Month\n",
    "-- TPC-DS Query 39\n",
    "WITH inv AS (\n",
    "    SELECT\n",
    "        w_warehouse_name,\n",
    "        w_warehouse_sk,\n",
    "        i_item_sk,\n",
    "        d_moy,\n",
    "        STDDEV_SAMP(inv_quantity_on_hand) AS stdev,\n",
    "        AVG(inv_quantity_on_hand) AS mean,\n",
    "        CASE\n",
    "            WHEN AVG(inv_quantity_on_hand) = 0 THEN NULL\n",
    "            ELSE STDDEV_SAMP(inv_quantity_on_hand) / AVG(inv_quantity_on_hand)\n",
    "        END AS cov\n",
    "    FROM\n",
    "        inventory\n",
    "        JOIN item ON inv_item_sk = i_item_sk\n",
    "        JOIN warehouse ON inv_warehouse_sk = w_warehouse_sk\n",
    "        JOIN date_dim ON inv_date_sk = d_date_sk\n",
    "    WHERE\n",
    "        d_year = 1998\n",
    "    GROUP BY\n",
    "        w_warehouse_name,\n",
    "        w_warehouse_sk,\n",
    "        i_item_sk,\n",
    "        d_moy\n",
    ")\n",
    "SELECT\n",
    "    w_warehouse_name,\n",
    "    d_moy,\n",
    "    MAX(CASE WHEN cov IS NULL THEN 0 ELSE 1 END) AS cov_flag,\n",
    "    MAX(cov) AS max_cov,\n",
    "    MAX(CASE WHEN cov IS NULL THEN 0 ELSE 1 END) * AVG(cov) AS avg_cov,\n",
    "    MAX(cov) / AVG(cov) AS cov_ratio\n",
    "FROM\n",
    "    inv\n",
    "GROUP BY\n",
    "    w_warehouse_name,\n",
    "    d_moy\n",
    "ORDER BY\n",
    "    w_warehouse_name,\n",
    "    d_moy\n",
    "LIMIT 100;"
   ]
  },
  {
   "cell_type": "code",
   "execution_count": 0,
   "metadata": {
    "application/vnd.databricks.v1+cell": {
     "cellMetadata": {
      "byteLimit": 2048000,
      "implicitDf": true,
      "rowLimit": 10000
     },
     "inputWidgets": {},
     "nuid": "29b9cd3f-448f-49bf-bb24-b0b7a1b1efb4",
     "showTitle": false,
     "tableResultSettingsMap": {},
     "title": ""
    }
   },
   "outputs": [],
   "source": [
    "%sql\n",
    "-- Query 40: Sales Impact Analysis Before and After a Specific Date\n",
    "-- TPC-DS Query 40\n",
    "SELECT\n",
    "    w_state,\n",
    "    i_item_id,\n",
    "    SUM(CASE WHEN d_date < DATE('1998-04-08') THEN cs_sales_price - COALESCE(cr_refunded_cash, 0) ELSE 0 END) AS sales_before,\n",
    "    SUM(CASE WHEN d_date >= DATE('1998-04-08') THEN cs_sales_price - COALESCE(cr_refunded_cash, 0) ELSE 0 END) AS sales_after\n",
    "FROM\n",
    "    catalog_sales\n",
    "    LEFT JOIN catalog_returns ON cs_order_number = cr_order_number AND cs_item_sk = cr_item_sk\n",
    "    JOIN warehouse ON cs_warehouse_sk = w_warehouse_sk\n",
    "    JOIN item ON cs_item_sk = i_item_sk\n",
    "    JOIN date_dim ON cs_sold_date_sk = d_date_sk\n",
    "WHERE\n",
    "    i_current_price BETWEEN 0.99 AND 1.49\n",
    "GROUP BY\n",
    "    w_state,\n",
    "    i_item_id\n",
    "ORDER BY\n",
    "    w_state,\n",
    "    i_item_id\n",
    "LIMIT 100;"
   ]
  }
 ],
 "metadata": {
  "application/vnd.databricks.v1+notebook": {
   "computePreferences": null,
   "dashboards": [],
   "environmentMetadata": null,
   "inputWidgetPreferences": null,
   "language": "python",
   "notebookMetadata": {
    "mostRecentlyExecutedCommandWithImplicitDF": {
     "commandId": 695471856183154,
     "dataframes": [
      "_sqldf"
     ]
    },
    "pythonIndentUnit": 2
   },
   "notebookName": "tpcds_queries_36_40_with_setup",
   "widgets": {}
  },
  "language_info": {
   "name": "python"
  }
 },
 "nbformat": 4,
 "nbformat_minor": 0
}
