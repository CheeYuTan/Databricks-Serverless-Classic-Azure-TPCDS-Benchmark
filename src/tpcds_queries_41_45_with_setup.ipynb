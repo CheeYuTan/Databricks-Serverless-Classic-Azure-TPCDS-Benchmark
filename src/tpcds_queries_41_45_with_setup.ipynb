{
 "cells": [
  {
   "cell_type": "markdown",
   "metadata": {
    "application/vnd.databricks.v1+cell": {
     "cellMetadata": {
      "byteLimit": 2048000,
      "rowLimit": 10000
     },
     "inputWidgets": {},
     "nuid": "42b76cbd-e654-4f92-968d-ed02abe16133",
     "showTitle": false,
     "tableResultSettingsMap": {},
     "title": ""
    }
   },
   "source": [
    "# 🧪 TPC-DS Benchmark Queries 41–45\n",
    "Databricks SQL using `%run ./specify_catalog_schema`"
   ]
  },
  {
   "cell_type": "code",
   "execution_count": 0,
   "metadata": {
    "application/vnd.databricks.v1+cell": {
     "cellMetadata": {
      "byteLimit": 2048000,
      "implicitDf": true,
      "rowLimit": 10000
     },
     "inputWidgets": {},
     "nuid": "9ec78d59-dc3a-4717-b570-9a39e50c8355",
     "showTitle": false,
     "tableResultSettingsMap": {},
     "title": ""
    }
   },
   "outputs": [],
   "source": [
    "%run ./specify_catalog_schema"
   ]
  },
  {
   "cell_type": "code",
   "execution_count": 0,
   "metadata": {
    "application/vnd.databricks.v1+cell": {
     "cellMetadata": {
      "byteLimit": 2048000,
      "implicitDf": true,
      "rowLimit": 10000
     },
     "inputWidgets": {},
     "nuid": "2ce32498-5826-47a7-9d3c-6c63c2f8a4a3",
     "showTitle": false,
     "tableResultSettingsMap": {},
     "title": ""
    }
   },
   "outputs": [],
   "source": [
    "%sql\n",
    "-- Query 41: Identifying Products with Specific Manufacturer Attributes\n",
    "-- TPC-DS Query 41\n",
    "SELECT DISTINCT(i_product_name)\n",
    "FROM item i1\n",
    "WHERE i_manufact_id BETWEEN 742 AND 782\n",
    "  AND (\n",
    "    SELECT COUNT(*) AS item_cnt\n",
    "    FROM item\n",
    "    WHERE i_manufact = i1.i_manufact\n",
    "      AND (\n",
    "        (i_category = 'Women'\n",
    "         AND (i_color = 'orchid' OR i_color = 'papaya')\n",
    "         AND (i_units = 'Pound' OR i_units = 'Lb')\n",
    "         AND (i_size = 'petite' OR i_size = 'medium'))\n",
    "        OR\n",
    "        (i_category = 'Women'\n",
    "         AND (i_color = 'burlywood' OR i_color = 'navy')\n",
    "         AND (i_units = 'Bundle' OR i_units = 'Each')\n",
    "         AND (i_size = 'petite' OR i_size = 'medium'))\n",
    "      )\n",
    "  ) > 0\n",
    "ORDER BY i_product_name\n",
    "LIMIT 100;"
   ]
  },
  {
   "cell_type": "code",
   "execution_count": 0,
   "metadata": {
    "application/vnd.databricks.v1+cell": {
     "cellMetadata": {
      "byteLimit": 2048000,
      "implicitDf": true,
      "rowLimit": 10000
     },
     "inputWidgets": {},
     "nuid": "dc3467f6-3cd7-4929-b68e-c0d884163254",
     "showTitle": false,
     "tableResultSettingsMap": {},
     "title": ""
    }
   },
   "outputs": [],
   "source": [
    "%sql\n",
    "-- Query 42: Sales Analysis by Category and Year\n",
    "-- TPC-DS Query 42\n",
    "SELECT dt.d_year,\n",
    "       item.i_category_id,\n",
    "       item.i_category,\n",
    "       SUM(ss_ext_sales_price) AS total_sales\n",
    "FROM date_dim dt,\n",
    "     store_sales,\n",
    "     item\n",
    "WHERE dt.d_date_sk = store_sales.ss_sold_date_sk\n",
    "  AND store_sales.ss_item_sk = item.i_item_sk\n",
    "  AND item.i_manager_id = 1\n",
    "  AND dt.d_moy = 12\n",
    "  AND dt.d_year = 1998\n",
    "GROUP BY dt.d_year,\n",
    "         item.i_category_id,\n",
    "         item.i_category\n",
    "ORDER BY total_sales DESC,\n",
    "         dt.d_year,\n",
    "         item.i_category_id,\n",
    "         item.i_category\n",
    "LIMIT 100;"
   ]
  },
  {
   "cell_type": "code",
   "execution_count": 0,
   "metadata": {
    "application/vnd.databricks.v1+cell": {
     "cellMetadata": {
      "byteLimit": 2048000,
      "implicitDf": true,
      "rowLimit": 10000
     },
     "inputWidgets": {},
     "nuid": "b90985d9-5ea5-4f54-a7ed-8d28bd06b350",
     "showTitle": false,
     "tableResultSettingsMap": {},
     "title": ""
    }
   },
   "outputs": [],
   "source": [
    "%sql\n",
    "-- Query 43: Weekly Sales Performance by Store\n",
    "-- TPC-DS Query 43\n",
    "SELECT s_store_name,\n",
    "       s_store_id,\n",
    "       SUM(CASE WHEN d_day_name = 'Sunday' THEN ss_sales_price ELSE NULL END) AS sun_sales,\n",
    "       SUM(CASE WHEN d_day_name = 'Monday' THEN ss_sales_price ELSE NULL END) AS mon_sales,\n",
    "       SUM(CASE WHEN d_day_name = 'Tuesday' THEN ss_sales_price ELSE NULL END) AS tue_sales,\n",
    "       SUM(CASE WHEN d_day_name = 'Wednesday' THEN ss_sales_price ELSE NULL END) AS wed_sales,\n",
    "       SUM(CASE WHEN d_day_name = 'Thursday' THEN ss_sales_price ELSE NULL END) AS thu_sales,\n",
    "       SUM(CASE WHEN d_day_name = 'Friday' THEN ss_sales_price ELSE NULL END) AS fri_sales,\n",
    "       SUM(CASE WHEN d_day_name = 'Saturday' THEN ss_sales_price ELSE NULL END) AS sat_sales\n",
    "FROM date_dim,\n",
    "     store_sales,\n",
    "     store\n",
    "WHERE d_date_sk = ss_sold_date_sk\n",
    "  AND s_store_sk = ss_store_sk\n",
    "  AND s_gmt_offset = -5\n",
    "  AND d_year = 2000\n",
    "GROUP BY s_store_name,\n",
    "         s_store_id\n",
    "ORDER BY s_store_name,\n",
    "         s_store_id,\n",
    "         sun_sales,\n",
    "         mon_sales,\n",
    "         tue_sales,\n",
    "         wed_sales,\n",
    "         thu_sales,\n",
    "         fri_sales,\n",
    "         sat_sales\n",
    "LIMIT 100;"
   ]
  },
  {
   "cell_type": "code",
   "execution_count": 0,
   "metadata": {
    "application/vnd.databricks.v1+cell": {
     "cellMetadata": {
      "byteLimit": 2048000,
      "implicitDf": true,
      "rowLimit": 10000
     },
     "inputWidgets": {},
     "nuid": "356cc4b5-766f-4157-8cc0-b88ba0895dd3",
     "showTitle": false,
     "tableResultSettingsMap": {},
     "title": ""
    }
   },
   "outputs": [],
   "source": [
    "%sql\n",
    "-- Query 44: Promotion Effectiveness Analysis\n",
    "-- TPC-DS Query 44\n",
    "SELECT i_item_id,\n",
    "       i_item_desc,\n",
    "       p_channel_email,\n",
    "       p_channel_catalog,\n",
    "       p_channel_tv,\n",
    "       SUM(cs_sales_price) AS catalog_sales,\n",
    "       SUM(ws_sales_price) AS web_sales\n",
    "FROM catalog_sales,\n",
    "     promotion,\n",
    "     item,\n",
    "     web_sales\n",
    "WHERE cs_promo_sk = p_promo_sk\n",
    "  AND cs_item_sk = i_item_sk\n",
    "  AND ws_item_sk = i_item_sk\n",
    "GROUP BY i_item_id,\n",
    "         i_item_desc,\n",
    "         p_channel_email,\n",
    "         p_channel_catalog,\n",
    "         p_channel_tv\n",
    "ORDER BY catalog_sales DESC,\n",
    "         web_sales DESC\n",
    "LIMIT 100;"
   ]
  },
  {
   "cell_type": "code",
   "execution_count": 0,
   "metadata": {
    "application/vnd.databricks.v1+cell": {
     "cellMetadata": {
      "byteLimit": 2048000,
      "implicitDf": true,
      "rowLimit": 10000
     },
     "inputWidgets": {},
     "nuid": "2a2bf161-71b6-4159-b5a3-b379b2be0032",
     "showTitle": false,
     "tableResultSettingsMap": {},
     "title": ""
    }
   },
   "outputs": [],
   "source": [
    "%sql\n",
    "-- Query 45: Sales Analysis by Customer Location\n",
    "-- TPC-DS Query 45\n",
    "SELECT ca_zip,\n",
    "       ca_city,\n",
    "       SUM(ws_sales_price) AS total_sales\n",
    "FROM web_sales,\n",
    "     customer,\n",
    "     customer_address,\n",
    "     date_dim,\n",
    "     item\n",
    "WHERE ws_bill_customer_sk = c_customer_sk\n",
    "  AND c_current_addr_sk = ca_address_sk\n",
    "  AND ws_item_sk = i_item_sk\n",
    "  AND ws_sold_date_sk = d_date_sk\n",
    "  AND d_qoy = 2\n",
    "  AND d_year = 2000\n",
    "  AND i_category = 'Jewelry'\n",
    "GROUP BY ca_zip,\n",
    "         ca_city\n",
    "ORDER BY ca_zip,\n",
    "         ca_city,\n",
    "         total_sales\n",
    "LIMIT 100;"
   ]
  }
 ],
 "metadata": {
  "application/vnd.databricks.v1+notebook": {
   "computePreferences": null,
   "dashboards": [],
   "environmentMetadata": null,
   "inputWidgetPreferences": null,
   "language": "python",
   "notebookMetadata": {
    "mostRecentlyExecutedCommandWithImplicitDF": {
     "commandId": 695471856183184,
     "dataframes": [
      "_sqldf"
     ]
    },
    "pythonIndentUnit": 2
   },
   "notebookName": "tpcds_queries_41_45_with_setup",
   "widgets": {}
  },
  "language_info": {
   "name": "python"
  }
 },
 "nbformat": 4,
 "nbformat_minor": 0
}
