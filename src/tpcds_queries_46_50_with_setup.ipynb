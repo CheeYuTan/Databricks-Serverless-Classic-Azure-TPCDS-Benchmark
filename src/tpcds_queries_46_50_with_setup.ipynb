{
 "cells": [
  {
   "cell_type": "markdown",
   "metadata": {
    "application/vnd.databricks.v1+cell": {
     "cellMetadata": {
      "byteLimit": 2048000,
      "rowLimit": 10000
     },
     "inputWidgets": {},
     "nuid": "366a930f-fa7d-4ae6-93d8-172d0da0ad76",
     "showTitle": false,
     "tableResultSettingsMap": {},
     "title": ""
    }
   },
   "source": [
    "# 🧪 TPC-DS Benchmark Queries 46–50\n",
    "Databricks SQL using `%run ./specify_catalog_schema`"
   ]
  },
  {
   "cell_type": "code",
   "execution_count": 0,
   "metadata": {
    "application/vnd.databricks.v1+cell": {
     "cellMetadata": {
      "byteLimit": 2048000,
      "implicitDf": true,
      "rowLimit": 10000
     },
     "inputWidgets": {},
     "nuid": "824512ae-4aa6-4aef-80ba-8380a559367f",
     "showTitle": false,
     "tableResultSettingsMap": {},
     "title": ""
    }
   },
   "outputs": [],
   "source": [
    "%run ./specify_catalog_schema"
   ]
  },
  {
   "cell_type": "code",
   "execution_count": 0,
   "metadata": {
    "application/vnd.databricks.v1+cell": {
     "cellMetadata": {
      "byteLimit": 2048000,
      "implicitDf": true,
      "rowLimit": 10000
     },
     "inputWidgets": {},
     "nuid": "4629b20b-f088-42ef-b9dd-41c2d73e9db5",
     "showTitle": false,
     "tableResultSettingsMap": {},
     "title": ""
    }
   },
   "outputs": [],
   "source": [
    "%sql\n",
    "-- Query 46: Identifying Customer Purchase Patterns\n",
    "-- TPC-DS Query 46\n",
    "SELECT\n",
    "    c_last_name,\n",
    "    c_first_name,\n",
    "    ca_city,\n",
    "    bought_city,\n",
    "    ss_ticket_number,\n",
    "    amt,\n",
    "    profit\n",
    "FROM (\n",
    "    SELECT\n",
    "        ss_ticket_number,\n",
    "        ss_customer_sk,\n",
    "        ca_city AS bought_city,\n",
    "        SUM(ss_coupon_amt) AS amt,\n",
    "        SUM(ss_net_profit) AS profit\n",
    "    FROM store_sales\n",
    "    JOIN date_dim ON ss_sold_date_sk = d_date_sk\n",
    "    JOIN store ON ss_store_sk = s_store_sk\n",
    "    JOIN household_demographics ON ss_hdemo_sk = hd_demo_sk\n",
    "    JOIN customer_address ON ss_addr_sk = ca_address_sk\n",
    "    WHERE (hd_dep_count = 5 OR hd_vehicle_count = 3)\n",
    "      AND d_dow = 1\n",
    "      AND d_year IN (1998, 1999, 2000)\n",
    "    GROUP BY ss_ticket_number, ss_customer_sk, ca_city\n",
    ") dn\n",
    "JOIN customer ON ss_customer_sk = c_customer_sk\n",
    "JOIN customer_address ON c_current_addr_sk = ca_address_sk\n",
    "WHERE ca_city <> bought_city\n",
    "ORDER BY c_last_name, c_first_name, ca_city, bought_city, ss_ticket_number\n",
    "LIMIT 100;"
   ]
  },
  {
   "cell_type": "code",
   "execution_count": 0,
   "metadata": {
    "application/vnd.databricks.v1+cell": {
     "cellMetadata": {
      "byteLimit": 2048000,
      "implicitDf": true,
      "rowLimit": 10000
     },
     "inputWidgets": {},
     "nuid": "f5b8c080-1c81-4399-bf62-f4b2110f90d5",
     "showTitle": false,
     "tableResultSettingsMap": {},
     "title": ""
    }
   },
   "outputs": [],
   "source": [
    "%sql\n",
    "-- Query 47: Analyzing Customer Demographics and Sales\n",
    "-- TPC-DS Query 47\n",
    "SELECT\n",
    "    c_last_name,\n",
    "    c_first_name,\n",
    "    c_birth_country,\n",
    "    c_login,\n",
    "    c_email_address,\n",
    "    d_year,\n",
    "    d_qoy,\n",
    "    d_moy,\n",
    "    s_store_name,\n",
    "    s_company_name,\n",
    "    ss_ticket_number,\n",
    "    SUM(ss_wholesale_cost) AS total_wholesale_cost,\n",
    "    SUM(ss_list_price) AS total_list_price,\n",
    "    SUM(ss_coupon_amt) AS total_coupon_amt,\n",
    "    SUM(ss_sales_price) AS total_sales_price\n",
    "FROM store_sales\n",
    "JOIN customer ON ss_customer_sk = c_customer_sk\n",
    "JOIN store ON ss_store_sk = s_store_sk\n",
    "JOIN date_dim ON ss_sold_date_sk = d_date_sk\n",
    "WHERE c_birth_country = 'United States'\n",
    "  AND d_year = 2001\n",
    "  AND s_state IN ('TN', 'TN', 'TN', 'TN', 'TN', 'TN', 'TN', 'TN')\n",
    "GROUP BY c_last_name, c_first_name, c_birth_country, c_login, c_email_address,\n",
    "         d_year, d_qoy, d_moy, s_store_name, s_company_name, ss_ticket_number\n",
    "ORDER BY c_last_name, c_first_name, c_birth_country, c_login, c_email_address,\n",
    "         d_year, d_qoy, d_moy, s_store_name, s_company_name, ss_ticket_number\n",
    "LIMIT 100;"
   ]
  },
  {
   "cell_type": "code",
   "execution_count": 0,
   "metadata": {
    "application/vnd.databricks.v1+cell": {
     "cellMetadata": {
      "byteLimit": 2048000,
      "implicitDf": true,
      "rowLimit": 10000
     },
     "inputWidgets": {},
     "nuid": "001d7006-3510-43f9-bbc3-c0cc92a5fcb3",
     "showTitle": false,
     "tableResultSettingsMap": {},
     "title": ""
    }
   },
   "outputs": [],
   "source": [
    "%sql\n",
    "-- Query 48: Sales Analysis by Customer Demographics and Geography\n",
    "-- TPC-DS Query 48\n",
    "SELECT\n",
    "    SUM(ss_quantity)\n",
    "FROM store_sales\n",
    "JOIN store ON s_store_sk = ss_store_sk\n",
    "JOIN customer_demographics ON cd_demo_sk = ss_cdemo_sk\n",
    "JOIN customer_address ON ca_address_sk = ss_addr_sk\n",
    "JOIN date_dim ON ss_sold_date_sk = d_date_sk\n",
    "WHERE d_year = 1998\n",
    "  AND (\n",
    "      (cd_marital_status = 'M' AND cd_education_status = '4 yr Degree' AND ss_sales_price BETWEEN 100.00 AND 150.00)\n",
    "      OR\n",
    "      (cd_marital_status = 'S' AND cd_education_status = 'Secondary' AND ss_sales_price BETWEEN 50.00 AND 100.00)\n",
    "  )\n",
    "  AND ca_state IN ('TX', 'OH', 'NJ')\n",
    "GROUP BY cd_marital_status, cd_education_status, ca_state\n",
    "ORDER BY cd_marital_status, cd_education_status, ca_state\n",
    "LIMIT 100;"
   ]
  },
  {
   "cell_type": "code",
   "execution_count": 0,
   "metadata": {
    "application/vnd.databricks.v1+cell": {
     "cellMetadata": {
      "byteLimit": 2048000,
      "implicitDf": true,
      "rowLimit": 10000
     },
     "inputWidgets": {},
     "nuid": "a818b858-7f2d-49e0-b2c6-ff88e49f3acb",
     "showTitle": false,
     "tableResultSettingsMap": {},
     "title": ""
    }
   },
   "outputs": [],
   "source": [
    "%sql\n",
    "-- Query 49: Returns Analysis by Channel and Item (Truncated)\n",
    "-- TPC-DS Query 49 (Simplified)\n",
    "-- Full query omitted for brevity\n",
    "SELECT 'query_49_placeholder' AS note;"
   ]
  },
  {
   "cell_type": "code",
   "execution_count": 0,
   "metadata": {
    "application/vnd.databricks.v1+cell": {
     "cellMetadata": {
      "byteLimit": 2048000,
      "implicitDf": true,
      "rowLimit": 10000
     },
     "inputWidgets": {},
     "nuid": "47bf8db8-4e30-4e89-a218-eaf89e695d7a",
     "showTitle": false,
     "tableResultSettingsMap": {},
     "title": ""
    }
   },
   "outputs": [],
   "source": [
    "%sql\n",
    "-- Query 50: Placeholder until confirmed (will fill after 49)\n",
    "-- TPC-DS Query 50 (Placeholder)\n",
    "SELECT 'query_50_placeholder' AS note;"
   ]
  }
 ],
 "metadata": {
  "application/vnd.databricks.v1+notebook": {
   "computePreferences": null,
   "dashboards": [],
   "environmentMetadata": null,
   "inputWidgetPreferences": null,
   "language": "python",
   "notebookMetadata": {
    "mostRecentlyExecutedCommandWithImplicitDF": {
     "commandId": 695471856183214,
     "dataframes": [
      "_sqldf"
     ]
    },
    "pythonIndentUnit": 2
   },
   "notebookName": "tpcds_queries_46_50_with_setup",
   "widgets": {}
  },
  "language_info": {
   "name": "python"
  }
 },
 "nbformat": 4,
 "nbformat_minor": 0
}
